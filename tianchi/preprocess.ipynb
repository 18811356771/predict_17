{
 "cells": [
  {
   "cell_type": "code",
   "execution_count": 2,
   "metadata": {},
   "outputs": [
    {
     "name": "stderr",
     "output_type": "stream",
     "text": [
      "C:\\Users\\zydar\\Anaconda2\\lib\\site-packages\\sklearn\\cross_validation.py:44: DeprecationWarning: This module was deprecated in version 0.18 in favor of the model_selection module into which all the refactored classes and functions are moved. Also note that the interface of the new CV iterators are different from that of this module. This module will be removed in 0.20.\n",
      "  \"This module will be removed in 0.20.\", DeprecationWarning)\n"
     ]
    }
   ],
   "source": [
    "from sklearn.model_selection import train_test_split\n",
    "import pandas as pd\n",
    "import numpy as np\n",
    "import matplotlib.pyplot as plt\n",
    "\n",
    "from sklearn import linear_model\n",
    "from scipy.interpolate import UnivariateSpline\n",
    "import xgboost as xgb"
   ]
  },
  {
   "cell_type": "code",
   "execution_count": 3,
   "metadata": {},
   "outputs": [
    {
     "name": "stdout",
     "output_type": "stream",
     "text": [
      "link_ID       132\n",
      "length        132\n",
      "width         132\n",
      "link_class    132\n",
      "dtype: int64\n"
     ]
    },
    {
     "data": {
      "text/html": [
       "<div>\n",
       "<style>\n",
       "    .dataframe thead tr:only-child th {\n",
       "        text-align: right;\n",
       "    }\n",
       "\n",
       "    .dataframe thead th {\n",
       "        text-align: left;\n",
       "    }\n",
       "\n",
       "    .dataframe tbody tr th {\n",
       "        vertical-align: top;\n",
       "    }\n",
       "</style>\n",
       "<table border=\"1\" class=\"dataframe\">\n",
       "  <thead>\n",
       "    <tr style=\"text-align: right;\">\n",
       "      <th></th>\n",
       "      <th>link_ID</th>\n",
       "      <th>length</th>\n",
       "      <th>width</th>\n",
       "      <th>link_class</th>\n",
       "    </tr>\n",
       "  </thead>\n",
       "  <tbody>\n",
       "    <tr>\n",
       "      <th>0</th>\n",
       "      <td>4377906289869500514</td>\n",
       "      <td>57</td>\n",
       "      <td>3</td>\n",
       "      <td>1</td>\n",
       "    </tr>\n",
       "    <tr>\n",
       "      <th>1</th>\n",
       "      <td>4377906284594800514</td>\n",
       "      <td>247</td>\n",
       "      <td>9</td>\n",
       "      <td>1</td>\n",
       "    </tr>\n",
       "    <tr>\n",
       "      <th>2</th>\n",
       "      <td>4377906289425800514</td>\n",
       "      <td>194</td>\n",
       "      <td>3</td>\n",
       "      <td>1</td>\n",
       "    </tr>\n",
       "    <tr>\n",
       "      <th>3</th>\n",
       "      <td>4377906284525800514</td>\n",
       "      <td>839</td>\n",
       "      <td>3</td>\n",
       "      <td>1</td>\n",
       "    </tr>\n",
       "    <tr>\n",
       "      <th>4</th>\n",
       "      <td>4377906284422600514</td>\n",
       "      <td>55</td>\n",
       "      <td>12</td>\n",
       "      <td>1</td>\n",
       "    </tr>\n",
       "  </tbody>\n",
       "</table>\n",
       "</div>"
      ],
      "text/plain": [
       "               link_ID  length  width  link_class\n",
       "0  4377906289869500514      57      3           1\n",
       "1  4377906284594800514     247      9           1\n",
       "2  4377906289425800514     194      3           1\n",
       "3  4377906284525800514     839      3           1\n",
       "4  4377906284422600514      55     12           1"
      ]
     },
     "execution_count": 3,
     "metadata": {},
     "output_type": "execute_result"
    }
   ],
   "source": [
    "links_infos = pd.read_csv('data/gy_contest_link_info.txt', delimiter=';')\n",
    "print links_infos.count()\n",
    "links_infos.head()"
   ]
  },
  {
   "cell_type": "code",
   "execution_count": 4,
   "metadata": {},
   "outputs": [
    {
     "name": "stdout",
     "output_type": "stream",
     "text": [
      "link_ID      132\n",
      "in_links     126\n",
      "out_links    125\n",
      "dtype: int64\n"
     ]
    },
    {
     "data": {
      "text/html": [
       "<div>\n",
       "<style>\n",
       "    .dataframe thead tr:only-child th {\n",
       "        text-align: right;\n",
       "    }\n",
       "\n",
       "    .dataframe thead th {\n",
       "        text-align: left;\n",
       "    }\n",
       "\n",
       "    .dataframe tbody tr th {\n",
       "        vertical-align: top;\n",
       "    }\n",
       "</style>\n",
       "<table border=\"1\" class=\"dataframe\">\n",
       "  <thead>\n",
       "    <tr style=\"text-align: right;\">\n",
       "      <th></th>\n",
       "      <th>link_ID</th>\n",
       "      <th>in_links</th>\n",
       "      <th>out_links</th>\n",
       "    </tr>\n",
       "  </thead>\n",
       "  <tbody>\n",
       "    <tr>\n",
       "      <th>0</th>\n",
       "      <td>4377906289869500514</td>\n",
       "      <td>4377906285525800514</td>\n",
       "      <td>4377906281969500514</td>\n",
       "    </tr>\n",
       "    <tr>\n",
       "      <th>1</th>\n",
       "      <td>4377906284594800514</td>\n",
       "      <td>4377906284514600514</td>\n",
       "      <td>4377906285594800514</td>\n",
       "    </tr>\n",
       "    <tr>\n",
       "      <th>2</th>\n",
       "      <td>4377906289425800514</td>\n",
       "      <td>NaN</td>\n",
       "      <td>4377906284653600514</td>\n",
       "    </tr>\n",
       "    <tr>\n",
       "      <th>3</th>\n",
       "      <td>4377906284525800514</td>\n",
       "      <td>4377906281234600514</td>\n",
       "      <td>4377906280334600514</td>\n",
       "    </tr>\n",
       "    <tr>\n",
       "      <th>4</th>\n",
       "      <td>4377906284422600514</td>\n",
       "      <td>3377906289434510514#4377906287959500514</td>\n",
       "      <td>4377906283422600514</td>\n",
       "    </tr>\n",
       "  </tbody>\n",
       "</table>\n",
       "</div>"
      ],
      "text/plain": [
       "               link_ID                                 in_links  \\\n",
       "0  4377906289869500514                      4377906285525800514   \n",
       "1  4377906284594800514                      4377906284514600514   \n",
       "2  4377906289425800514                                      NaN   \n",
       "3  4377906284525800514                      4377906281234600514   \n",
       "4  4377906284422600514  3377906289434510514#4377906287959500514   \n",
       "\n",
       "             out_links  \n",
       "0  4377906281969500514  \n",
       "1  4377906285594800514  \n",
       "2  4377906284653600514  \n",
       "3  4377906280334600514  \n",
       "4  4377906283422600514  "
      ]
     },
     "execution_count": 4,
     "metadata": {},
     "output_type": "execute_result"
    }
   ],
   "source": [
    "links_tops = pd.read_csv('data/gy_contest_link_top.txt', delimiter=';')\n",
    "print links_tops.count()\n",
    "links_tops.head()"
   ]
  },
  {
   "cell_type": "code",
   "execution_count": 4,
   "metadata": {},
   "outputs": [
    {
     "name": "stdout",
     "output_type": "stream",
     "text": [
      "link_ID          10632044\n",
      "date             10632044\n",
      "time_interval    10632044\n",
      "travel_time      10632044\n",
      "dtype: int64\n"
     ]
    },
    {
     "data": {
      "text/html": [
       "<div>\n",
       "<style>\n",
       "    .dataframe thead tr:only-child th {\n",
       "        text-align: right;\n",
       "    }\n",
       "\n",
       "    .dataframe thead th {\n",
       "        text-align: left;\n",
       "    }\n",
       "\n",
       "    .dataframe tbody tr th {\n",
       "        vertical-align: top;\n",
       "    }\n",
       "</style>\n",
       "<table border=\"1\" class=\"dataframe\">\n",
       "  <thead>\n",
       "    <tr style=\"text-align: right;\">\n",
       "      <th></th>\n",
       "      <th>link_ID</th>\n",
       "      <th>date</th>\n",
       "      <th>time_interval</th>\n",
       "      <th>travel_time</th>\n",
       "    </tr>\n",
       "  </thead>\n",
       "  <tbody>\n",
       "    <tr>\n",
       "      <th>0</th>\n",
       "      <td>4377906283422600514</td>\n",
       "      <td>2017-05-06</td>\n",
       "      <td>[2017-05-06 11:04:00,2017-05-06 11:06:00)</td>\n",
       "      <td>3.0</td>\n",
       "    </tr>\n",
       "    <tr>\n",
       "      <th>1</th>\n",
       "      <td>3377906289434510514</td>\n",
       "      <td>2017-05-06</td>\n",
       "      <td>[2017-05-06 10:42:00,2017-05-06 10:44:00)</td>\n",
       "      <td>1.0</td>\n",
       "    </tr>\n",
       "    <tr>\n",
       "      <th>2</th>\n",
       "      <td>3377906285934510514</td>\n",
       "      <td>2017-05-06</td>\n",
       "      <td>[2017-05-06 11:56:00,2017-05-06 11:58:00)</td>\n",
       "      <td>35.2</td>\n",
       "    </tr>\n",
       "    <tr>\n",
       "      <th>3</th>\n",
       "      <td>3377906285934510514</td>\n",
       "      <td>2017-05-06</td>\n",
       "      <td>[2017-05-06 17:46:00,2017-05-06 17:48:00)</td>\n",
       "      <td>26.2</td>\n",
       "    </tr>\n",
       "    <tr>\n",
       "      <th>4</th>\n",
       "      <td>3377906287934510514</td>\n",
       "      <td>2017-05-06</td>\n",
       "      <td>[2017-05-06 10:52:00,2017-05-06 10:54:00)</td>\n",
       "      <td>10.4</td>\n",
       "    </tr>\n",
       "  </tbody>\n",
       "</table>\n",
       "</div>"
      ],
      "text/plain": [
       "               link_ID        date                              time_interval  \\\n",
       "0  4377906283422600514  2017-05-06  [2017-05-06 11:04:00,2017-05-06 11:06:00)   \n",
       "1  3377906289434510514  2017-05-06  [2017-05-06 10:42:00,2017-05-06 10:44:00)   \n",
       "2  3377906285934510514  2017-05-06  [2017-05-06 11:56:00,2017-05-06 11:58:00)   \n",
       "3  3377906285934510514  2017-05-06  [2017-05-06 17:46:00,2017-05-06 17:48:00)   \n",
       "4  3377906287934510514  2017-05-06  [2017-05-06 10:52:00,2017-05-06 10:54:00)   \n",
       "\n",
       "   travel_time  \n",
       "0          3.0  \n",
       "1          1.0  \n",
       "2         35.2  \n",
       "3         26.2  \n",
       "4         10.4  "
      ]
     },
     "execution_count": 4,
     "metadata": {},
     "output_type": "execute_result"
    }
   ],
   "source": [
    "df = pd.read_csv('data/quaterfinal_gy_cmp_training_traveltime.txt', delimiter=';')\n",
    "print df.count()\n",
    "df.head()"
   ]
  },
  {
   "cell_type": "markdown",
   "metadata": {},
   "source": [
    "## 分析数据特性"
   ]
  },
  {
   "cell_type": "code",
   "execution_count": 5,
   "metadata": {},
   "outputs": [
    {
     "data": {
      "image/png": "[encoded data removed]",
      "text/plain": [
       "<matplotlib.figure.Figure at 0x9e82390>"
      ]
     },
     "metadata": {},
     "output_type": "display_data"
    }
   ],
   "source": [
    "df['travel_time'].hist(bins=100)\n",
    "plt.show()"
   ]
  },
  {
   "cell_type": "code",
   "execution_count": 6,
   "metadata": {},
   "outputs": [
    {
     "data": {
      "image/png": "[encoded data removed]",
      "text/plain": [
       "<matplotlib.figure.Figure at 0x166e80b8>"
      ]
     },
     "metadata": {},
     "output_type": "display_data"
    }
   ],
   "source": [
    "df['travel_time'] = np.log1p(df['travel_time'])  # log(1+x)\n",
    "df['travel_time'].hist(bins=100)\n",
    "plt.show()"
   ]
  },
  {
   "cell_type": "markdown",
   "metadata": {},
   "source": [
    "- 可以看出，travel_time的分布是长尾分布，大部分数据集中在很小的区域，故做log特征变换\n",
    "- 为避免x=0出现负无穷大，使用log(1+x)"
   ]
  },
  {
   "cell_type": "markdown",
   "metadata": {},
   "source": [
    "## 数据平滑"
   ]
  },
  {
   "cell_type": "code",
   "execution_count": 8,
   "metadata": {
    "collapsed": true
   },
   "outputs": [],
   "source": [
    "def quantile_clip(group):\n",
    "#     group.plot()\n",
    "    group[group < group.quantile(.05)] = group.quantile(.05)\n",
    "    group[group > group.quantile(.95)] = group.quantile(.95)\n",
    "#     group.plot()\n",
    "#     plt.show()\n",
    "    return group\n",
    "df['travel_time'] = df.groupby(['link_ID', 'date'])['travel_time'].transform(quantile_clip)"
   ]
  },
  {
   "cell_type": "markdown",
   "metadata": {},
   "source": [
    "## 缺失值补全"
   ]
  },
  {
   "cell_type": "code",
   "execution_count": 156,
   "metadata": {
    "collapsed": true
   },
   "outputs": [],
   "source": [
    "date_list = np.sort(df['date'].unique())  #2016.07.01-2016.07.31 2017.04.01-2017.07.31\n",
    "# print date_list\n",
    "df['time_interval_begin'] =  pd.to_datetime(df['time_interval'].map(lambda x: x[1:20]))"
   ]
  },
  {
   "cell_type": "code",
   "execution_count": 100,
   "metadata": {
    "collapsed": true
   },
   "outputs": [],
   "source": [
    "date_range = pd.date_range('2016-07-01 00:00:00', '2016-07-31 23:58:00', freq='2min').append(\n",
    "    pd.date_range('2017-04-01 00:00:00', '2017-07-31 23:58:00', freq='2min'))\n",
    "\n",
    "new_index = pd.MultiIndex.from_product([links_infos['link_ID'].unique(), date_range],\n",
    "                                       names=['link_ID', 'time_interval_begin'])\n",
    "df_new_index = pd.DataFrame(index=new_index).reset_index()"
   ]
  },
  {
   "cell_type": "code",
   "execution_count": 101,
   "metadata": {
    "collapsed": true
   },
   "outputs": [],
   "source": [
    "df_fillna = pd.merge(df_new_index, df, on=['link_ID', 'time_interval_begin'], how='left')"
   ]
  },
  {
   "cell_type": "code",
   "execution_count": 141,
   "metadata": {
    "collapsed": true
   },
   "outputs": [],
   "source": [
    "# 预测2017年7月份，8，15，18时的数据\n",
    "df_select = df_fillna.loc[df_fillna['time_interval_begin'].dt.hour.isin([6,7,8,13,14,15,16,17,18])]  # 筛选出6,7,8,13,14,15,16,17,18小时的数据\n",
    "df_select = df_select.loc[~(\n",
    "    (df_select['time_interval_begin'].dt.year == 2017) & \n",
    "    (df_select['time_interval_begin'].dt.month == 7) & \n",
    "    (df_select['time_interval_begin'].dt.hour.isin([8,15,18]))\n",
    ")]\n",
    "df_select['date'] = df_select['time_interval_begin'].dt.strftime('%Y-%m-%d')"
   ]
  },
  {
   "cell_type": "code",
   "execution_count": 144,
   "metadata": {},
   "outputs": [
    {
     "data": {
      "image/png": "[encoded data removed]",
      "text/plain": [
       "<matplotlib.figure.Figure at 0x193c07b00>"
      ]
     },
     "metadata": {},
     "output_type": "display_data"
    }
   ],
   "source": [
    "df_select.loc[df_select['travel_time'].isnull() == True].groupby('date')['link_ID'].count().plot(figsize=(10,6))\n",
    "plt.show()"
   ]
  },
  {
   "cell_type": "markdown",
   "metadata": {},
   "source": [
    "## 加入2017年3月份的数据，使用3，4，5，6四个月来预测7月"
   ]
  },
  {
   "cell_type": "code",
   "execution_count": 4,
   "metadata": {},
   "outputs": [
    {
     "name": "stdout",
     "output_type": "stream",
     "text": [
      "link_ID                13028218\n",
      "date                   13028218\n",
      "travel_time            13028218\n",
      "time_interval_begin    13028218\n",
      "dtype: int64\n"
     ]
    },
    {
     "data": {
      "text/html": [
       "<div>\n",
       "<style>\n",
       "    .dataframe thead tr:only-child th {\n",
       "        text-align: right;\n",
       "    }\n",
       "\n",
       "    .dataframe thead th {\n",
       "        text-align: left;\n",
       "    }\n",
       "\n",
       "    .dataframe tbody tr th {\n",
       "        vertical-align: top;\n",
       "    }\n",
       "</style>\n",
       "<table border=\"1\" class=\"dataframe\">\n",
       "  <thead>\n",
       "    <tr style=\"text-align: right;\">\n",
       "      <th></th>\n",
       "      <th>link_ID</th>\n",
       "      <th>date</th>\n",
       "      <th>travel_time</th>\n",
       "      <th>time_interval_begin</th>\n",
       "    </tr>\n",
       "  </thead>\n",
       "  <tbody>\n",
       "    <tr>\n",
       "      <th>0</th>\n",
       "      <td>4377906283422600514</td>\n",
       "      <td>2017-05-06</td>\n",
       "      <td>1.386294</td>\n",
       "      <td>2017-05-06 11:04:00</td>\n",
       "    </tr>\n",
       "    <tr>\n",
       "      <th>1</th>\n",
       "      <td>3377906289434510514</td>\n",
       "      <td>2017-05-06</td>\n",
       "      <td>0.693147</td>\n",
       "      <td>2017-05-06 10:42:00</td>\n",
       "    </tr>\n",
       "    <tr>\n",
       "      <th>2</th>\n",
       "      <td>3377906285934510514</td>\n",
       "      <td>2017-05-06</td>\n",
       "      <td>3.589059</td>\n",
       "      <td>2017-05-06 11:56:00</td>\n",
       "    </tr>\n",
       "    <tr>\n",
       "      <th>3</th>\n",
       "      <td>3377906285934510514</td>\n",
       "      <td>2017-05-06</td>\n",
       "      <td>3.303217</td>\n",
       "      <td>2017-05-06 17:46:00</td>\n",
       "    </tr>\n",
       "    <tr>\n",
       "      <th>4</th>\n",
       "      <td>3377906287934510514</td>\n",
       "      <td>2017-05-06</td>\n",
       "      <td>2.251292</td>\n",
       "      <td>2017-05-06 10:52:00</td>\n",
       "    </tr>\n",
       "  </tbody>\n",
       "</table>\n",
       "</div>"
      ],
      "text/plain": [
       "               link_ID        date  travel_time time_interval_begin\n",
       "0  4377906283422600514  2017-05-06     1.386294 2017-05-06 11:04:00\n",
       "1  3377906289434510514  2017-05-06     0.693147 2017-05-06 10:42:00\n",
       "2  3377906285934510514  2017-05-06     3.589059 2017-05-06 11:56:00\n",
       "3  3377906285934510514  2017-05-06     3.303217 2017-05-06 17:46:00\n",
       "4  3377906287934510514  2017-05-06     2.251292 2017-05-06 10:52:00"
      ]
     },
     "execution_count": 4,
     "metadata": {},
     "output_type": "execute_result"
    }
   ],
   "source": [
    "import pandas as pd\n",
    "import numpy as np\n",
    "import matplotlib.pyplot as plt\n",
    "\n",
    "def quantile_clip(group):\n",
    "    group[group < group.quantile(.05)] = group.quantile(.05)\n",
    "    group[group > group.quantile(.95)] = group.quantile(.95)\n",
    "    return group\n",
    "\n",
    "df = pd.read_csv('data/quaterfinal_gy_cmp_training_traveltime.txt', delimiter=';')\n",
    "df['time_interval_begin'] = pd.to_datetime(df['time_interval'].map(lambda x: x[1:20]))\n",
    "df_second = pd.read_csv('data/gy_contest_traveltime_training_data_second.txt', delimiter=';')\n",
    "df_second = df_second.rename(columns={'linkID': 'link_ID'})\n",
    "df_second['time_interval_begin'] = pd.to_datetime(df_second['time_interval'].map(lambda x: x[1:20]))\n",
    "df_second = df_second.loc[(df_second['time_interval_begin'] >= pd.to_datetime('2017-03-01')) & \n",
    "                          (df_second['time_interval_begin'] <= pd.to_datetime('2017-03-31'))]\n",
    "df_concat = pd.concat([df, df_second])\n",
    "df_concat = df_concat.drop(['time_interval'], axis=1)\n",
    "df_concat['travel_time'] = np.log1p(df_concat['travel_time'])\n",
    "df_concat['travel_time'] = df_concat.groupby(['link_ID', 'date'])['travel_time'].transform(quantile_clip)\n",
    "df_select = df_concat.loc[(df_concat['time_interval_begin'].dt.hour.isin([6, 7, 8, 13, 14, 15, 16, 17, 18]))]\n",
    "# df_select.to_csv('data/df_select.txt', header=True, index=None, sep=';', mode='w')\n",
    "\n",
    "print df_concat.count()\n",
    "df_concat.head()"
   ]
  },
  {
   "cell_type": "code",
   "execution_count": 5,
   "metadata": {
    "collapsed": true
   },
   "outputs": [],
   "source": [
    "date_range = pd.date_range('2017-03-01 00:00:00', '2017-07-31 23:58:00', freq='2min')\n",
    "\n",
    "new_index = pd.MultiIndex.from_product([links_infos['link_ID'].unique(), date_range],\n",
    "                                       names=['link_ID', 'time_interval_begin'])\n",
    "\n",
    "new_df = pd.DataFrame(index=new_index).reset_index()\n",
    "\n",
    "df_fillna = pd.merge(new_df, df_concat, on=['link_ID', 'time_interval_begin'], how='left')\n",
    "df_fillna = df_fillna.loc[(df_fillna['time_interval_begin'].dt.hour.isin([6, 7, 8, 13, 14, 15, 16, 17, 18]))]"
   ]
  },
  {
   "cell_type": "code",
   "execution_count": 6,
   "metadata": {},
   "outputs": [
    {
     "name": "stdout",
     "output_type": "stream",
     "text": [
      "link_ID                5049000\n",
      "time_interval_begin    5049000\n",
      "date                   5049000\n",
      "travel_time            4626850\n",
      "dtype: int64\n"
     ]
    },
    {
     "data": {
      "text/html": [
       "<div>\n",
       "<style>\n",
       "    .dataframe thead tr:only-child th {\n",
       "        text-align: right;\n",
       "    }\n",
       "\n",
       "    .dataframe thead th {\n",
       "        text-align: left;\n",
       "    }\n",
       "\n",
       "    .dataframe tbody tr th {\n",
       "        vertical-align: top;\n",
       "    }\n",
       "</style>\n",
       "<table border=\"1\" class=\"dataframe\">\n",
       "  <thead>\n",
       "    <tr style=\"text-align: right;\">\n",
       "      <th></th>\n",
       "      <th>link_ID</th>\n",
       "      <th>time_interval_begin</th>\n",
       "      <th>date</th>\n",
       "      <th>travel_time</th>\n",
       "    </tr>\n",
       "  </thead>\n",
       "  <tbody>\n",
       "    <tr>\n",
       "      <th>180</th>\n",
       "      <td>4377906289869500514</td>\n",
       "      <td>2017-03-01 06:00:00</td>\n",
       "      <td>2017-03-01</td>\n",
       "      <td>2.174752</td>\n",
       "    </tr>\n",
       "    <tr>\n",
       "      <th>181</th>\n",
       "      <td>4377906289869500514</td>\n",
       "      <td>2017-03-01 06:02:00</td>\n",
       "      <td>2017-03-01</td>\n",
       "      <td>2.174752</td>\n",
       "    </tr>\n",
       "    <tr>\n",
       "      <th>182</th>\n",
       "      <td>4377906289869500514</td>\n",
       "      <td>2017-03-01 06:04:00</td>\n",
       "      <td>2017-03-01</td>\n",
       "      <td>2.174752</td>\n",
       "    </tr>\n",
       "    <tr>\n",
       "      <th>183</th>\n",
       "      <td>4377906289869500514</td>\n",
       "      <td>2017-03-01 06:06:00</td>\n",
       "      <td>2017-03-01</td>\n",
       "      <td>2.174752</td>\n",
       "    </tr>\n",
       "    <tr>\n",
       "      <th>184</th>\n",
       "      <td>4377906289869500514</td>\n",
       "      <td>2017-03-01 06:08:00</td>\n",
       "      <td>2017-03-01</td>\n",
       "      <td>2.174752</td>\n",
       "    </tr>\n",
       "  </tbody>\n",
       "</table>\n",
       "</div>"
      ],
      "text/plain": [
       "                 link_ID time_interval_begin        date  travel_time\n",
       "180  4377906289869500514 2017-03-01 06:00:00  2017-03-01     2.174752\n",
       "181  4377906289869500514 2017-03-01 06:02:00  2017-03-01     2.174752\n",
       "182  4377906289869500514 2017-03-01 06:04:00  2017-03-01     2.174752\n",
       "183  4377906289869500514 2017-03-01 06:06:00  2017-03-01     2.174752\n",
       "184  4377906289869500514 2017-03-01 06:08:00  2017-03-01     2.174752"
      ]
     },
     "execution_count": 6,
     "metadata": {},
     "output_type": "execute_result"
    }
   ],
   "source": [
    "df_fillna = df_fillna.loc[~(\n",
    "    (df_fillna['time_interval_begin'].dt.year == 2017) & \n",
    "    (df_fillna['time_interval_begin'].dt.month == 7) & \n",
    "    (df_fillna['time_interval_begin'].dt.hour.isin([8, 15, 18]))\n",
    ")]\n",
    "\n",
    "df_fillna = df_fillna.loc[~(\n",
    "    (df_fillna['time_interval_begin'].dt.year == 2017) & \n",
    "    (df_fillna['time_interval_begin'].dt.month == 3) & \n",
    "    (df_fillna['time_interval_begin'].dt.day == 31)\n",
    ")]\n",
    "\n",
    "df_fillna['date'] = df_fillna['time_interval_begin'].dt.strftime('%Y-%m-%d')\n",
    "df_fillna.to_csv('data/df_fillna.txt', header=True, index=None, sep=';', mode='w')\n",
    "\n",
    "print df_fillna.count()\n",
    "df_fillna.head()"
   ]
  },
  {
   "cell_type": "markdown",
   "metadata": {},
   "source": [
    "## 开始补全"
   ]
  },
  {
   "cell_type": "code",
   "execution_count": 5,
   "metadata": {
    "collapsed": true
   },
   "outputs": [],
   "source": [
    "import pandas as pd\n",
    "import numpy as np\n",
    "import matplotlib.pyplot as plt\n",
    "\n",
    "df = pd.read_csv('data/df_fillna.csv', delimiter=';', parse_dates=['time_interval_begin'], dtype={'link_ID': object})"
   ]
  },
  {
   "cell_type": "code",
   "execution_count": 6,
   "metadata": {
    "collapsed": true
   },
   "outputs": [],
   "source": [
    "# Seasonal date trend\n",
    "\n",
    "def date_trend(group):  # 每个group为一条link\n",
    "    tmp = group.groupby('date_hour').mean().reset_index()  # 每天travel_time的平均值\n",
    "\n",
    "    def nan_helper(y):\n",
    "        return np.isnan(y), lambda z: z.nonzero()[0]\n",
    "\n",
    "    y = tmp['travel_time'].values\n",
    "    nans, x = nan_helper(y)  # x表示'travel_time'中的非零下标\n",
    "    if group.link_ID.values[0] in ['3377906282328510514', '3377906283328510514', '4377906280784800514',\n",
    "                                   '9377906281555510514']:\n",
    "        tmp['date_trend'] = group['travel_time'].median()\n",
    "    else:\n",
    "        regr = linear_model.LinearRegression()\n",
    "        regr.fit(x(~nans).reshape(-1, 1), y[~nans].reshape(-1, 1))\n",
    "        tmp['date_trend'] = regr.predict(tmp.index.values.reshape(-1, 1)).ravel()\n",
    "    \n",
    "    group = pd.merge(group, tmp[['date_trend', 'date_hour']], on='date_hour', how='left')\n",
    "#     plt.plot(tmp.index, tmp['date_trend'], 'o', tmp.index, tmp['travel_time'], 'ro')\n",
    "#     plt.title(group.link_ID.values[0])\n",
    "#     plt.show()\n",
    "    return group\n",
    "\n",
    "df['date_hour'] = df.time_interval_begin.map(lambda x: x.strftime('%Y-%m-%d-%H'))\n",
    "df = df.groupby('link_ID').apply(date_trend)\n",
    "df = df.drop(['date_hour', 'link_ID'], axis=1)\n",
    "df = df.reset_index()\n",
    "df = df.drop('level_1', axis=1)\n",
    "df['travel_time'] = df['travel_time'] - df['date_trend']"
   ]
  },
  {
   "cell_type": "code",
   "execution_count": 7,
   "metadata": {
    "collapsed": true
   },
   "outputs": [],
   "source": [
    "# Daily hour trend\n",
    "def minute_trend(group):\n",
    "    tmp = group.groupby('hour_minute').mean().reset_index()\n",
    "    spl = UnivariateSpline(tmp.index, tmp['travel_time'].values, s=1, k=3)\n",
    "    tmp['minute_trend'] = spl(tmp.index)\n",
    "#     plt.plot(tmp.index, spl(tmp.index), 'r', tmp.index, tmp['travel_time'], 'o')\n",
    "#     plt.title(group.link_ID.values[0])\n",
    "#     plt.show()\n",
    "    # print group.link_ID.values[0]\n",
    "    group = pd.merge(group, tmp[['minute_trend', 'hour_minute']], on='hour_minute', how='left')\n",
    "\n",
    "    return group\n",
    "\n",
    "df['hour_minute'] = df.time_interval_begin.map(lambda x: x.strftime('%H-%M'))\n",
    "df = df.groupby('link_ID').apply(minute_trend)\n",
    "\n",
    "df = df.drop(['hour_minute', 'link_ID'], axis=1)\n",
    "df = df.reset_index()\n",
    "df = df.drop('level_1', axis=1)\n",
    "df['travel_time'] = df['travel_time'] - df['minute_trend']"
   ]
  },
  {
   "cell_type": "code",
   "execution_count": 8,
   "metadata": {
    "collapsed": true
   },
   "outputs": [],
   "source": [
    "link_infos = pd.read_csv('data/gy_contest_link_info.txt', delimiter=';', dtype={'link_ID': object})\n",
    "link_tops = pd.read_csv('data/gy_contest_link_top.txt', delimiter=';', dtype={'link_ID': object})\n",
    "link_tops['in_links'] = link_tops['in_links'].str.len().apply(lambda x: np.floor(x / 19))  # 计算in_link数\n",
    "link_tops['out_links'] = link_tops['out_links'].str.len().apply(lambda x: np.floor(x / 19))  # 计算out_link数\n",
    "link_tops = link_tops.fillna(0)\n",
    "\n",
    "\n",
    "link_infos = pd.merge(link_infos, link_tops, on=['link_ID'], how='left')\n",
    "link_infos['links_num'] = link_infos[\"in_links\"].astype('str') + \",\" + link_infos[\"out_links\"].astype('str')\n",
    "link_infos['area'] = link_infos['length'] * link_infos['width']\n",
    "df = pd.merge(df, link_infos[['link_ID', 'length', 'width', 'links_num', 'area']], on=['link_ID'], how='left')\n",
    "\n",
    "df.loc[df['date'].isin(\n",
    "    ['2017-04-02', '2017-04-03', '2017-04-04', '2017-04-29', '2017-04-30', '2017-05-01',\n",
    "     '2017-05-28', '2017-05-29', '2017-05-30']), 'vacation'] = 1\n",
    "\n",
    "df.loc[~df['date'].isin(\n",
    "    ['2017-04-02', '2017-04-03', '2017-04-04', '2017-04-29', '2017-04-30', '2017-05-01',\n",
    "     '2017-05-28', '2017-05-29', '2017-05-30']), 'vacation'] = 0\n",
    "\n",
    "df['minute'] = df['time_interval_begin'].dt.minute\n",
    "df['hour'] = df['time_interval_begin'].dt.hour\n",
    "df['day'] = df['time_interval_begin'].dt.day\n",
    "df['week_day'] = df['time_interval_begin'].map(lambda x: x.weekday() + 1)\n",
    "df['month'] = df['time_interval_begin'].dt.month"
   ]
  },
  {
   "cell_type": "code",
   "execution_count": 5,
   "metadata": {},
   "outputs": [],
   "source": [
    "# df.to_csv('data/df_for_imputation.txt', header=True, index=None, sep=';', mode='w')\n",
    "\n",
    "df = pd.read_csv('data/df_for_imputation.txt', delimiter=';', dtype={'link_ID': object})\n",
    "df['travel_time2'] = df['travel_time']"
   ]
  },
  {
   "cell_type": "code",
   "execution_count": 6,
   "metadata": {
    "collapsed": true
   },
   "outputs": [],
   "source": [
    "def mean_time(group):\n",
    "    group['link_ID_en'] = group['travel_time'].mean()\n",
    "    return group\n",
    "\n",
    "df = df.groupby('link_ID').apply(mean_time)\n",
    "sorted_link = np.sort(df['link_ID_en'].unique())\n",
    "df['link_ID_en'] = df['link_ID_en'].map(lambda x: np.argmin(x >= sorted_link))\n",
    "\n",
    "def std(group):\n",
    "    group['travel_time_std'] = np.std(group['travel_time'])\n",
    "    return group\n",
    "\n",
    "df = df.groupby('link_ID').apply(std)\n",
    "df['travel_time'] = df['travel_time'] / df['travel_time_std']"
   ]
  },
  {
   "cell_type": "code",
   "execution_count": 7,
   "metadata": {
    "collapsed": true
   },
   "outputs": [],
   "source": [
    "train_df = df.loc[~df['travel_time'].isnull()]\n",
    "test_df = df.loc[df['travel_time'].isnull()].copy()"
   ]
  },
  {
   "cell_type": "code",
   "execution_count": 8,
   "metadata": {
    "collapsed": true
   },
   "outputs": [],
   "source": [
    "def feature_vis(regressor, train_feature):\n",
    "    importances = regressor.feature_importances_\n",
    "    indices = np.argsort(importances)[::-1]\n",
    "    selected_features = [train_feature[e] for e in indices]\n",
    "    plt.figure(figsize=(20, 10))\n",
    "    plt.title(\"train_feature importances\")\n",
    "    plt.bar(range(len(train_feature)), importances[indices],\n",
    "            color=\"r\", align=\"center\")\n",
    "    plt.xticks(range(len(selected_features)), selected_features, rotation=70)\n",
    "    plt.show()"
   ]
  },
  {
   "cell_type": "code",
   "execution_count": null,
   "metadata": {},
   "outputs": [
    {
     "ename": "TypeError",
     "evalue": "__init__() got an unexpected keyword argument 'random_state'",
     "output_type": "error",
     "traceback": [
      "\u001b[1;31m---------------------------------------------------------------------------\u001b[0m",
      "\u001b[1;31mTypeError\u001b[0m                                 Traceback (most recent call last)",
      "\u001b[1;32m<ipython-input-9-ea7a168fb51b>\u001b[0m in \u001b[0;36m<module>\u001b[1;34m()\u001b[0m\n\u001b[0;32m     36\u001b[0m                              \u001b[0mcolsample_bytree\u001b[0m\u001b[1;33m=\u001b[0m\u001b[0mparams\u001b[0m\u001b[1;33m[\u001b[0m\u001b[1;34m'colsample_bytree'\u001b[0m\u001b[1;33m]\u001b[0m\u001b[1;33m,\u001b[0m \u001b[0mrandom_state\u001b[0m\u001b[1;33m=\u001b[0m\u001b[1;36m0\u001b[0m\u001b[1;33m,\u001b[0m\u001b[1;33m\u001b[0m\u001b[0m\n\u001b[0;32m     37\u001b[0m                              \u001b[0mmax_depth\u001b[0m\u001b[1;33m=\u001b[0m\u001b[0mparams\u001b[0m\u001b[1;33m[\u001b[0m\u001b[1;34m'max_depth'\u001b[0m\u001b[1;33m]\u001b[0m\u001b[1;33m,\u001b[0m \u001b[0mgamma\u001b[0m\u001b[1;33m=\u001b[0m\u001b[0mparams\u001b[0m\u001b[1;33m[\u001b[0m\u001b[1;34m'gamma'\u001b[0m\u001b[1;33m]\u001b[0m\u001b[1;33m,\u001b[0m\u001b[1;33m\u001b[0m\u001b[0m\n\u001b[1;32m---> 38\u001b[1;33m                              min_child_weight=params['min_child_weight'], reg_alpha=params['reg_alpha'])\n\u001b[0m\u001b[0;32m     39\u001b[0m \u001b[0mregressor\u001b[0m\u001b[1;33m.\u001b[0m\u001b[0mfit\u001b[0m\u001b[1;33m(\u001b[0m\u001b[0mX_train\u001b[0m\u001b[1;33m,\u001b[0m \u001b[0my_train\u001b[0m\u001b[1;33m,\u001b[0m \u001b[0mverbose\u001b[0m\u001b[1;33m=\u001b[0m\u001b[0mTrue\u001b[0m\u001b[1;33m,\u001b[0m \u001b[0mearly_stopping_rounds\u001b[0m\u001b[1;33m=\u001b[0m\u001b[1;36m10\u001b[0m\u001b[1;33m,\u001b[0m \u001b[0meval_set\u001b[0m\u001b[1;33m=\u001b[0m\u001b[0meval_set\u001b[0m\u001b[1;33m)\u001b[0m\u001b[1;33m\u001b[0m\u001b[0m\n\u001b[0;32m     40\u001b[0m \u001b[1;33m\u001b[0m\u001b[0m\n",
      "\u001b[1;31mTypeError\u001b[0m: __init__() got an unexpected keyword argument 'random_state'"
     ]
    }
   ],
   "source": [
    "\n",
    "\n",
    "\n",
    "params = {\n",
    "    'learning_rate': 0.2,\n",
    "    'n_estimators': 30,\n",
    "    'subsample': 0.8,\n",
    "    'colsample_bytree': 0.6,\n",
    "    'max_depth': 10,\n",
    "    'min_child_weight': 1,\n",
    "    'reg_alpha': 0,\n",
    "    'gamma': 0\n",
    "}\n",
    "\n",
    "df = pd.get_dummies(df, columns=['links_num', 'width', 'minute', 'hour', 'week_day', 'day', 'month'])\n",
    "\n",
    "# print df.head(20)\n",
    "\n",
    "feature = df.columns.values.tolist()\n",
    "train_feature = [x for x in feature if\n",
    "                 x not in ['link_ID', 'time_interval_begin', 'travel_time', 'date', 'travel_time2', 'minute_trend',\n",
    "                           'travel_time_std', 'date_trend']]\n",
    "\n",
    "train_df = df.loc[~df['travel_time'].isnull()]\n",
    "test_df = df.loc[df['travel_time'].isnull()].copy()\n",
    "\n",
    "# print train_feature\n",
    "X = train_df[train_feature].values\n",
    "y = train_df['travel_time'].values\n",
    "\n",
    "X_train, X_test, y_train, y_test = train_test_split(X, y, test_size=0.1, random_state=0)\n",
    "\n",
    "eval_set = [(X_test, y_test)]\n",
    "regressor = xgb.XGBRegressor(learning_rate=params['learning_rate'], n_estimators=params['n_estimators'],\n",
    "                             booster='gbtree', objective='reg:linear', subsample=params['subsample'],\n",
    "                             colsample_bytree=params['colsample_bytree'],\n",
    "                             max_depth=params['max_depth'], gamma=params['gamma'],\n",
    "                             min_child_weight=params['min_child_weight'], reg_alpha=params['reg_alpha'])\n",
    "regressor.fit(X_train, y_train, verbose=True, early_stopping_rounds=10, eval_set=eval_set)\n",
    "\n",
    "\n",
    "\n",
    "test_df['prediction'] = regressor.predict(test_df[train_feature].values)\n",
    "\n",
    "df = pd.merge(df, test_df[['link_ID', 'time_interval_begin', 'prediction']], on=['link_ID', 'time_interval_begin'],\n",
    "              how='left')\n",
    "\n",
    "# feature_vis(regressor,train_feature)\n",
    "\n",
    "df['imputation1'] = df['travel_time'].isnull()  # 标记是否是填充的缺失值\n",
    "df['travel_time'] = df['travel_time'].fillna(value=df['prediction'])\n",
    "df['travel_time'] = (df['travel_time'] * np.array(df['travel_time_std']) + np.array(df['minute_trend'])\n",
    "                     + np.array(df['date_trend']))"
   ]
  },
  {
   "cell_type": "code",
   "execution_count": null,
   "metadata": {
    "collapsed": true
   },
   "outputs": [],
   "source": [
    "def vis(group):\n",
    "    group['travel_time'].plot()\n",
    "    tmp = group.loc[group['imputation1'] == True]\n",
    "    plt.scatter(tmp.index, tmp['travel_time'], c='r')\n",
    "    plt.show()\n",
    "\n",
    "df.groupby(['link_ID', 'date']).apply(vis)"
   ]
  },
  {
   "cell_type": "markdown",
   "metadata": {},
   "source": [
    "## 分析提取特征"
   ]
  },
  {
   "cell_type": "code",
   "execution_count": 27,
   "metadata": {},
   "outputs": [
    {
     "data": {
      "text/html": [
       "<div>\n",
       "<style>\n",
       "    .dataframe thead tr:only-child th {\n",
       "        text-align: right;\n",
       "    }\n",
       "\n",
       "    .dataframe thead th {\n",
       "        text-align: left;\n",
       "    }\n",
       "\n",
       "    .dataframe tbody tr th {\n",
       "        vertical-align: top;\n",
       "    }\n",
       "</style>\n",
       "<table border=\"1\" class=\"dataframe\">\n",
       "  <thead>\n",
       "    <tr style=\"text-align: right;\">\n",
       "      <th></th>\n",
       "      <th>link_ID</th>\n",
       "      <th>time_interval_begin</th>\n",
       "      <th>date</th>\n",
       "      <th>travel_time</th>\n",
       "      <th>date_trend</th>\n",
       "      <th>minute_trend</th>\n",
       "      <th>length</th>\n",
       "      <th>area</th>\n",
       "      <th>vacation</th>\n",
       "      <th>link_ID_en</th>\n",
       "      <th>...</th>\n",
       "      <th>day_27</th>\n",
       "      <th>day_28</th>\n",
       "      <th>day_29</th>\n",
       "      <th>day_30</th>\n",
       "      <th>day_31</th>\n",
       "      <th>month_3</th>\n",
       "      <th>month_4</th>\n",
       "      <th>month_5</th>\n",
       "      <th>month_6</th>\n",
       "      <th>month_7</th>\n",
       "    </tr>\n",
       "  </thead>\n",
       "  <tbody>\n",
       "    <tr>\n",
       "      <th>0</th>\n",
       "      <td>3377906280028510514</td>\n",
       "      <td>2017-03-01 06:00:00</td>\n",
       "      <td>2017-03-01</td>\n",
       "      <td>NaN</td>\n",
       "      <td>1.937809</td>\n",
       "      <td>-0.272342</td>\n",
       "      <td>48</td>\n",
       "      <td>144</td>\n",
       "      <td>0.0</td>\n",
       "      <td>94</td>\n",
       "      <td>...</td>\n",
       "      <td>0</td>\n",
       "      <td>0</td>\n",
       "      <td>0</td>\n",
       "      <td>0</td>\n",
       "      <td>0</td>\n",
       "      <td>1</td>\n",
       "      <td>0</td>\n",
       "      <td>0</td>\n",
       "      <td>0</td>\n",
       "      <td>0</td>\n",
       "    </tr>\n",
       "    <tr>\n",
       "      <th>1</th>\n",
       "      <td>3377906280028510514</td>\n",
       "      <td>2017-03-01 06:02:00</td>\n",
       "      <td>2017-03-01</td>\n",
       "      <td>NaN</td>\n",
       "      <td>1.937809</td>\n",
       "      <td>-0.266762</td>\n",
       "      <td>48</td>\n",
       "      <td>144</td>\n",
       "      <td>0.0</td>\n",
       "      <td>94</td>\n",
       "      <td>...</td>\n",
       "      <td>0</td>\n",
       "      <td>0</td>\n",
       "      <td>0</td>\n",
       "      <td>0</td>\n",
       "      <td>0</td>\n",
       "      <td>1</td>\n",
       "      <td>0</td>\n",
       "      <td>0</td>\n",
       "      <td>0</td>\n",
       "      <td>0</td>\n",
       "    </tr>\n",
       "    <tr>\n",
       "      <th>2</th>\n",
       "      <td>3377906280028510514</td>\n",
       "      <td>2017-03-01 06:04:00</td>\n",
       "      <td>2017-03-01</td>\n",
       "      <td>NaN</td>\n",
       "      <td>1.937809</td>\n",
       "      <td>-0.261247</td>\n",
       "      <td>48</td>\n",
       "      <td>144</td>\n",
       "      <td>0.0</td>\n",
       "      <td>94</td>\n",
       "      <td>...</td>\n",
       "      <td>0</td>\n",
       "      <td>0</td>\n",
       "      <td>0</td>\n",
       "      <td>0</td>\n",
       "      <td>0</td>\n",
       "      <td>1</td>\n",
       "      <td>0</td>\n",
       "      <td>0</td>\n",
       "      <td>0</td>\n",
       "      <td>0</td>\n",
       "    </tr>\n",
       "    <tr>\n",
       "      <th>3</th>\n",
       "      <td>3377906280028510514</td>\n",
       "      <td>2017-03-01 06:06:00</td>\n",
       "      <td>2017-03-01</td>\n",
       "      <td>NaN</td>\n",
       "      <td>1.937809</td>\n",
       "      <td>-0.255794</td>\n",
       "      <td>48</td>\n",
       "      <td>144</td>\n",
       "      <td>0.0</td>\n",
       "      <td>94</td>\n",
       "      <td>...</td>\n",
       "      <td>0</td>\n",
       "      <td>0</td>\n",
       "      <td>0</td>\n",
       "      <td>0</td>\n",
       "      <td>0</td>\n",
       "      <td>1</td>\n",
       "      <td>0</td>\n",
       "      <td>0</td>\n",
       "      <td>0</td>\n",
       "      <td>0</td>\n",
       "    </tr>\n",
       "    <tr>\n",
       "      <th>4</th>\n",
       "      <td>3377906280028510514</td>\n",
       "      <td>2017-03-01 06:08:00</td>\n",
       "      <td>2017-03-01</td>\n",
       "      <td>NaN</td>\n",
       "      <td>1.937809</td>\n",
       "      <td>-0.250404</td>\n",
       "      <td>48</td>\n",
       "      <td>144</td>\n",
       "      <td>0.0</td>\n",
       "      <td>94</td>\n",
       "      <td>...</td>\n",
       "      <td>0</td>\n",
       "      <td>0</td>\n",
       "      <td>0</td>\n",
       "      <td>0</td>\n",
       "      <td>0</td>\n",
       "      <td>1</td>\n",
       "      <td>0</td>\n",
       "      <td>0</td>\n",
       "      <td>0</td>\n",
       "      <td>0</td>\n",
       "    </tr>\n",
       "  </tbody>\n",
       "</table>\n",
       "<p>5 rows × 110 columns</p>\n",
       "</div>"
      ],
      "text/plain": [
       "               link_ID time_interval_begin        date  travel_time  \\\n",
       "0  3377906280028510514 2017-03-01 06:00:00  2017-03-01          NaN   \n",
       "1  3377906280028510514 2017-03-01 06:02:00  2017-03-01          NaN   \n",
       "2  3377906280028510514 2017-03-01 06:04:00  2017-03-01          NaN   \n",
       "3  3377906280028510514 2017-03-01 06:06:00  2017-03-01          NaN   \n",
       "4  3377906280028510514 2017-03-01 06:08:00  2017-03-01          NaN   \n",
       "\n",
       "   date_trend  minute_trend  length  area  vacation  link_ID_en   ...     \\\n",
       "0    1.937809     -0.272342      48   144       0.0          94   ...      \n",
       "1    1.937809     -0.266762      48   144       0.0          94   ...      \n",
       "2    1.937809     -0.261247      48   144       0.0          94   ...      \n",
       "3    1.937809     -0.255794      48   144       0.0          94   ...      \n",
       "4    1.937809     -0.250404      48   144       0.0          94   ...      \n",
       "\n",
       "   day_27  day_28  day_29  day_30  day_31  month_3  month_4  month_5  month_6  \\\n",
       "0       0       0       0       0       0        1        0        0        0   \n",
       "1       0       0       0       0       0        1        0        0        0   \n",
       "2       0       0       0       0       0        1        0        0        0   \n",
       "3       0       0       0       0       0        1        0        0        0   \n",
       "4       0       0       0       0       0        1        0        0        0   \n",
       "\n",
       "   month_7  \n",
       "0        0  \n",
       "1        0  \n",
       "2        0  \n",
       "3        0  \n",
       "4        0  \n",
       "\n",
       "[5 rows x 110 columns]"
      ]
     },
     "execution_count": 27,
     "metadata": {},
     "output_type": "execute_result"
    }
   ],
   "source": [
    "def mean_time(group):\n",
    "    group['link_ID_en'] = group['travel_time'].mean()\n",
    "    return group\n",
    "\n",
    "df = df.groupby('link_ID').apply(mean_time)\n",
    "sorted_link = np.sort(df['link_ID_en'].unique())\n",
    "df['link_ID_en'] = df['link_ID_en'].map(lambda x: np.argmin(x >= sorted_link))\n",
    "\n",
    "def std(group):\n",
    "    group['travel_time_std'] = np.std(group['travel_time'])\n",
    "    return group\n",
    "\n",
    "df = df.groupby('link_ID').apply(std)\n",
    "df['travel_time'] = df['travel_time'] / df['travel_time_std']\n",
    "\n",
    "\n",
    "df = pd.get_dummies(df, columns=['links_num', 'width', 'minute', 'hour', 'week_day', 'day', 'month'])\n",
    "\n",
    "df.head()"
   ]
  },
  {
   "cell_type": "code",
   "execution_count": 14,
   "metadata": {},
   "outputs": [
    {
     "name": "stdout",
     "output_type": "stream",
     "text": [
      "0.000114874769674\n"
     ]
    }
   ],
   "source": [
    "for name, group in df.groupby('link_ID'):\n",
    "    print group['travel_time'].mean()\n",
    "    break"
   ]
  },
  {
   "cell_type": "code",
   "execution_count": 11,
   "metadata": {},
   "outputs": [
    {
     "name": "stdout",
     "output_type": "stream",
     "text": [
      "['length', 'width', 'links_num', 'area', 'vacation', 'minute', 'hour', 'day', 'week_day', 'month']\n"
     ]
    }
   ],
   "source": [
    "feature = df.columns.values.tolist()\n",
    "train_feature = [x for x in feature if\n",
    "                 x not in ['link_ID', 'time_interval_begin', 'travel_time', 'date', 'travel_time2', 'minute_trend',\n",
    "                           'travel_time_std', 'date_trend']]\n",
    "\n",
    "train_df = df.loc[~df['travel_time'].isnull()]\n",
    "test_df = df.loc[df['travel_time'].isnull()].copy()\n",
    "\n",
    "print train_feature\n",
    "X = train_df[train_feature].values\n",
    "y = train_df['travel_time'].values"
   ]
  },
  {
   "cell_type": "code",
   "execution_count": null,
   "metadata": {
    "collapsed": true
   },
   "outputs": [],
   "source": []
  }
 ],
 "metadata": {
  "kernelspec": {
   "display_name": "Python 2",
   "language": "python",
   "name": "python2"
  },
  "language_info": {
   "codemirror_mode": {
    "name": "ipython",
    "version": 2
   },
   "file_extension": ".py",
   "mimetype": "text/x-python",
   "name": "python",
   "nbconvert_exporter": "python",
   "pygments_lexer": "ipython2",
   "version": "2.7.13"
  }
 },
 "nbformat": 4,
 "nbformat_minor": 2
}
