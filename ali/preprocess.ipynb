{
 "cells": [
  {
   "cell_type": "markdown",
   "metadata": {},
   "source": [
    "## [天池智慧交通预测挑战赛解决方案](https://github.com/PENGZhaoqing/TimeSeriesPrediction)\n",
    " - 作者：PENGZhaoqing\n",
    " - 排名：41/1716\n",
    " - 最终效果：本地0.267324，线上0.268095\n",
    " \n",
    "### 数据\n",
    " - 132条道路\n",
    " - 1,0632,044条记录，2016.7,2017.4,2017.5,2017.6月全天数据，2017.7每天6:00-8:00,13:00-15:00,16:00-18:00\n",
    " - 预测2017.7每天8:00-9:00,15:00-16:00,18:00-19:00数据\n",
    "\n",
    "### 分析数据特性\n",
    " - 长尾特性，对数据取log(1+x)处理（实际travel_time均大于0）\n",
    " - 数据平滑：上阈值95%，下阈值5%\n",
    " - 缺失值补全：\n",
    "   - 季节性趋势：按小时为粒度，取一小时内的travel_time平均值"
   ]
  },
  {
   "cell_type": "code",
   "execution_count": 2,
   "metadata": {},
   "outputs": [
    {
     "name": "stderr",
     "output_type": "stream",
     "text": [
      "/software/home/chenzh/anaconda2/lib/python2.7/site-packages/sklearn/cross_validation.py:44: DeprecationWarning: This module was deprecated in version 0.18 in favor of the model_selection module into which all the refactored classes and functions are moved. Also note that the interface of the new CV iterators are different from that of this module. This module will be removed in 0.20.\n",
      "  \"This module will be removed in 0.20.\", DeprecationWarning)\n"
     ]
    }
   ],
   "source": [
    "from sklearn.model_selection import train_test_split\n",
    "import pandas as pd\n",
    "import numpy as np\n",
    "import matplotlib.pyplot as plt\n",
    "\n",
    "from sklearn import linear_model\n",
    "from scipy.interpolate import UnivariateSpline\n",
    "import xgboost as xgb"
   ]
  },
  {
   "cell_type": "code",
   "execution_count": 3,
   "metadata": {
    "collapsed": true
   },
   "outputs": [
    {
     "name": "stdout",
     "output_type": "stream",
     "text": [
      "link_ID       132\n",
      "length        132\n",
      "width         132\n",
      "link_class    132\n",
      "dtype: int64\n"
     ]
    },
    {
     "data": {
      "text/html": [
       "<div>\n",
       "<table border=\"1\" class=\"dataframe\">\n",
       "  <thead>\n",
       "    <tr style=\"text-align: right;\">\n",
       "      <th></th>\n",
       "      <th>link_ID</th>\n",
       "      <th>length</th>\n",
       "      <th>width</th>\n",
       "      <th>link_class</th>\n",
       "    </tr>\n",
       "  </thead>\n",
       "  <tbody>\n",
       "    <tr>\n",
       "      <th>0</th>\n",
       "      <td>4377906289869500514</td>\n",
       "      <td>57</td>\n",
       "      <td>3</td>\n",
       "      <td>1</td>\n",
       "    </tr>\n",
       "    <tr>\n",
       "      <th>1</th>\n",
       "      <td>4377906284594800514</td>\n",
       "      <td>247</td>\n",
       "      <td>9</td>\n",
       "      <td>1</td>\n",
       "    </tr>\n",
       "    <tr>\n",
       "      <th>2</th>\n",
       "      <td>4377906289425800514</td>\n",
       "      <td>194</td>\n",
       "      <td>3</td>\n",
       "      <td>1</td>\n",
       "    </tr>\n",
       "    <tr>\n",
       "      <th>3</th>\n",
       "      <td>4377906284525800514</td>\n",
       "      <td>839</td>\n",
       "      <td>3</td>\n",
       "      <td>1</td>\n",
       "    </tr>\n",
       "    <tr>\n",
       "      <th>4</th>\n",
       "      <td>4377906284422600514</td>\n",
       "      <td>55</td>\n",
       "      <td>12</td>\n",
       "      <td>1</td>\n",
       "    </tr>\n",
       "  </tbody>\n",
       "</table>\n",
       "</div>"
      ],
      "text/plain": [
       "               link_ID  length  width  link_class\n",
       "0  4377906289869500514      57      3           1\n",
       "1  4377906284594800514     247      9           1\n",
       "2  4377906289425800514     194      3           1\n",
       "3  4377906284525800514     839      3           1\n",
       "4  4377906284422600514      55     12           1"
      ]
     },
     "execution_count": 3,
     "metadata": {},
     "output_type": "execute_result"
    }
   ],
   "source": [
    "links_infos = pd.read_csv('data/gy_contest_link_info.txt', delimiter=';')\n",
    "print links_infos.count()\n",
    "links_infos.head()"
   ]
  },
  {
   "cell_type": "code",
   "execution_count": 4,
   "metadata": {
    "collapsed": true
   },
   "outputs": [
    {
     "name": "stdout",
     "output_type": "stream",
     "text": [
      "link_ID      132\n",
      "in_links     126\n",
      "out_links    125\n",
      "dtype: int64\n"
     ]
    },
    {
     "data": {
      "text/html": [
       "<div>\n",
       "<table border=\"1\" class=\"dataframe\">\n",
       "  <thead>\n",
       "    <tr style=\"text-align: right;\">\n",
       "      <th></th>\n",
       "      <th>link_ID</th>\n",
       "      <th>in_links</th>\n",
       "      <th>out_links</th>\n",
       "    </tr>\n",
       "  </thead>\n",
       "  <tbody>\n",
       "    <tr>\n",
       "      <th>0</th>\n",
       "      <td>4377906289869500514</td>\n",
       "      <td>4377906285525800514</td>\n",
       "      <td>4377906281969500514</td>\n",
       "    </tr>\n",
       "    <tr>\n",
       "      <th>1</th>\n",
       "      <td>4377906284594800514</td>\n",
       "      <td>4377906284514600514</td>\n",
       "      <td>4377906285594800514</td>\n",
       "    </tr>\n",
       "    <tr>\n",
       "      <th>2</th>\n",
       "      <td>4377906289425800514</td>\n",
       "      <td>NaN</td>\n",
       "      <td>4377906284653600514</td>\n",
       "    </tr>\n",
       "    <tr>\n",
       "      <th>3</th>\n",
       "      <td>4377906284525800514</td>\n",
       "      <td>4377906281234600514</td>\n",
       "      <td>4377906280334600514</td>\n",
       "    </tr>\n",
       "    <tr>\n",
       "      <th>4</th>\n",
       "      <td>4377906284422600514</td>\n",
       "      <td>3377906289434510514#4377906287959500514</td>\n",
       "      <td>4377906283422600514</td>\n",
       "    </tr>\n",
       "  </tbody>\n",
       "</table>\n",
       "</div>"
      ],
      "text/plain": [
       "               link_ID                                 in_links  \\\n",
       "0  4377906289869500514                      4377906285525800514   \n",
       "1  4377906284594800514                      4377906284514600514   \n",
       "2  4377906289425800514                                      NaN   \n",
       "3  4377906284525800514                      4377906281234600514   \n",
       "4  4377906284422600514  3377906289434510514#4377906287959500514   \n",
       "\n",
       "             out_links  \n",
       "0  4377906281969500514  \n",
       "1  4377906285594800514  \n",
       "2  4377906284653600514  \n",
       "3  4377906280334600514  \n",
       "4  4377906283422600514  "
      ]
     },
     "execution_count": 4,
     "metadata": {},
     "output_type": "execute_result"
    }
   ],
   "source": [
    "links_tops = pd.read_csv('data/gy_contest_link_top.txt', delimiter=';')\n",
    "print links_tops.count()\n",
    "links_tops.head()"
   ]
  },
  {
   "cell_type": "code",
   "execution_count": 4,
   "metadata": {},
   "outputs": [
    {
     "name": "stdout",
     "output_type": "stream",
     "text": [
      "link_ID          10632044\n",
      "date             10632044\n",
      "time_interval    10632044\n",
      "travel_time      10632044\n",
      "dtype: int64\n"
     ]
    },
    {
     "data": {
      "text/html": [
       "<div>\n",
       "<table border=\"1\" class=\"dataframe\">\n",
       "  <thead>\n",
       "    <tr style=\"text-align: right;\">\n",
       "      <th></th>\n",
       "      <th>link_ID</th>\n",
       "      <th>date</th>\n",
       "      <th>time_interval</th>\n",
       "      <th>travel_time</th>\n",
       "    </tr>\n",
       "  </thead>\n",
       "  <tbody>\n",
       "    <tr>\n",
       "      <th>0</th>\n",
       "      <td>4377906283422600514</td>\n",
       "      <td>2017-05-06</td>\n",
       "      <td>[2017-05-06 11:04:00,2017-05-06 11:06:00)</td>\n",
       "      <td>3.0</td>\n",
       "    </tr>\n",
       "    <tr>\n",
       "      <th>1</th>\n",
       "      <td>3377906289434510514</td>\n",
       "      <td>2017-05-06</td>\n",
       "      <td>[2017-05-06 10:42:00,2017-05-06 10:44:00)</td>\n",
       "      <td>1.0</td>\n",
       "    </tr>\n",
       "    <tr>\n",
       "      <th>2</th>\n",
       "      <td>3377906285934510514</td>\n",
       "      <td>2017-05-06</td>\n",
       "      <td>[2017-05-06 11:56:00,2017-05-06 11:58:00)</td>\n",
       "      <td>35.2</td>\n",
       "    </tr>\n",
       "    <tr>\n",
       "      <th>3</th>\n",
       "      <td>3377906285934510514</td>\n",
       "      <td>2017-05-06</td>\n",
       "      <td>[2017-05-06 17:46:00,2017-05-06 17:48:00)</td>\n",
       "      <td>26.2</td>\n",
       "    </tr>\n",
       "    <tr>\n",
       "      <th>4</th>\n",
       "      <td>3377906287934510514</td>\n",
       "      <td>2017-05-06</td>\n",
       "      <td>[2017-05-06 10:52:00,2017-05-06 10:54:00)</td>\n",
       "      <td>10.4</td>\n",
       "    </tr>\n",
       "  </tbody>\n",
       "</table>\n",
       "</div>"
      ],
      "text/plain": [
       "               link_ID        date                              time_interval  \\\n",
       "0  4377906283422600514  2017-05-06  [2017-05-06 11:04:00,2017-05-06 11:06:00)   \n",
       "1  3377906289434510514  2017-05-06  [2017-05-06 10:42:00,2017-05-06 10:44:00)   \n",
       "2  3377906285934510514  2017-05-06  [2017-05-06 11:56:00,2017-05-06 11:58:00)   \n",
       "3  3377906285934510514  2017-05-06  [2017-05-06 17:46:00,2017-05-06 17:48:00)   \n",
       "4  3377906287934510514  2017-05-06  [2017-05-06 10:52:00,2017-05-06 10:54:00)   \n",
       "\n",
       "   travel_time  \n",
       "0          3.0  \n",
       "1          1.0  \n",
       "2         35.2  \n",
       "3         26.2  \n",
       "4         10.4  "
      ]
     },
     "execution_count": 4,
     "metadata": {},
     "output_type": "execute_result"
    }
   ],
   "source": [
    "df = pd.read_csv('data/quaterfinal_gy_cmp_training_traveltime.txt', delimiter=';')\n",
    "print df.count()\n",
    "df.head()"
   ]
  },
  {
   "cell_type": "markdown",
   "metadata": {},
   "source": [
    "## 分析数据特性"
   ]
  },
  {
   "cell_type": "code",
   "execution_count": 5,
   "metadata": {},
   "outputs": [
    {
     "data": {
      "image/png": "[encoded data removed]",
      "text/plain": [
       "<matplotlib.figure.Figure at 0x7f4db0b2e750>"
      ]
     },
     "metadata": {},
     "output_type": "display_data"
    }
   ],
   "source": [
    "df['travel_time'].hist(bins=100)\n",
    "plt.show()"
   ]
  },
  {
   "cell_type": "code",
   "execution_count": 6,
   "metadata": {},
   "outputs": [
    {
     "data": {
      "image/png": "[encoded data removed]",
      "text/plain": [
       "<matplotlib.figure.Figure at 0x7f4db2326a50>"
      ]
     },
     "metadata": {},
     "output_type": "display_data"
    }
   ],
   "source": [
    "df['travel_time'] = np.log1p(df['travel_time'])  # log(1+x)\n",
    "df['travel_time'].hist(bins=100)\n",
    "plt.show()"
   ]
  },
  {
   "cell_type": "markdown",
   "metadata": {},
   "source": [
    "- 可以看出，travel_time的分布是长尾分布，大部分数据集中在很小的区域，故做log特征变换\n",
    "- 为避免x=0出现负无穷大，使用log(1+x)"
   ]
  },
  {
   "cell_type": "markdown",
   "metadata": {},
   "source": [
    "## 数据平滑"
   ]
  },
  {
   "cell_type": "code",
   "execution_count": 7,
   "metadata": {
    "collapsed": true
   },
   "outputs": [],
   "source": [
    "def quantile_clip(group):\n",
    "#     group.plot()\n",
    "    group[group < group.quantile(.05)] = group.quantile(.05)\n",
    "    group[group > group.quantile(.95)] = group.quantile(.95)\n",
    "#     group.plot()\n",
    "#     plt.show()\n",
    "    return group\n",
    "df['travel_time'] = df.groupby(['link_ID', 'date'])['travel_time'].transform(quantile_clip)"
   ]
  },
  {
   "cell_type": "markdown",
   "metadata": {},
   "source": [
    "## 缺失值补全"
   ]
  },
  {
   "cell_type": "code",
   "execution_count": 9,
   "metadata": {
    "collapsed": true
   },
   "outputs": [],
   "source": [
    "date_list = np.sort(df['date'].unique())  # 查看数据中日期范围\n",
    "# print date_list  # 2016.07.01-2016.07.31 2017.04.01-2017.07.31\n",
    "df['time_interval_begin'] = pd.to_datetime(df['time_interval'].map(lambda x: x[1:20]))  # 提取出时间2017-05-06 11:04:00"
   ]
  },
  {
   "cell_type": "code",
   "execution_count": 100,
   "metadata": {
    "collapsed": true
   },
   "outputs": [],
   "source": [
    "date_range = pd.date_range('2016-07-01 00:00:00', '2016-07-31 23:58:00', freq='2min').append(\n",
    "    pd.date_range('2017-04-01 00:00:00', '2017-07-31 23:58:00', freq='2min'))\n",
    "\n",
    "new_index = pd.MultiIndex.from_product([links_infos['link_ID'].unique(), date_range],\n",
    "                                       names=['link_ID', 'time_interval_begin'])\n",
    "df_new_index = pd.DataFrame(index=new_index).reset_index()"
   ]
  },
  {
   "cell_type": "code",
   "execution_count": 101,
   "metadata": {
    "collapsed": true
   },
   "outputs": [],
   "source": [
    "df_fillna = pd.merge(df_new_index, df, on=['link_ID', 'time_interval_begin'], how='left')"
   ]
  },
  {
   "cell_type": "code",
   "execution_count": 141,
   "metadata": {
    "collapsed": true
   },
   "outputs": [],
   "source": [
    "# 预测2017年7月份，8，15，18时的数据\n",
    "df_select = df_fillna.loc[df_fillna['time_interval_begin'].dt.hour.isin([6,7,8,13,14,15,16,17,18])]  # 筛选出6,7,8,13,14,15,16,17,18小时的数据\n",
    "df_select = df_select.loc[~(\n",
    "    (df_select['time_interval_begin'].dt.year == 2017) & \n",
    "    (df_select['time_interval_begin'].dt.month == 7) & \n",
    "    (df_select['time_interval_begin'].dt.hour.isin([8,15,18]))\n",
    ")]\n",
    "df_select['date'] = df_select['time_interval_begin'].dt.strftime('%Y-%m-%d')"
   ]
  },
  {
   "cell_type": "code",
   "execution_count": 144,
   "metadata": {},
   "outputs": [
    {
     "data": {
      "image/png": "[encoded data removed]",
      "text/plain": [
       "<matplotlib.figure.Figure at 0x193c07b00>"
      ]
     },
     "metadata": {},
     "output_type": "display_data"
    }
   ],
   "source": [
    "df_select.loc[df_select['travel_time'].isnull() == True].groupby('date')['link_ID'].count().plot(figsize=(10,6))\n",
    "plt.show()"
   ]
  },
  {
   "cell_type": "markdown",
   "metadata": {},
   "source": [
    "## 加入2017年3月份的数据，使用3，4，5，6四个月来预测7月\n",
    " - df_concat：三四五六七月份数据/13028218\n",
    " - df_select：'travel_time'已转换，并做了平滑处理，三四五六七月份，每天6, 7, 8, 13, 14, 15, 16, 17, 18数据/5609962\n",
    " - df_fillna：将缺失数据填充为nan，去掉2017.07 8时，15时，18时数据，去掉2017.03.31 数据/4626850/5049000\\\n",
    " - df_date_daily_trend：计算出两条趋势线，保留travel_time2"
   ]
  },
  {
   "cell_type": "code",
   "execution_count": 6,
   "metadata": {},
   "outputs": [
    {
     "name": "stdout",
     "output_type": "stream",
     "text": [
      "link_ID                13028218\n",
      "date                   13028218\n",
      "travel_time            13028218\n",
      "time_interval_begin    13028218\n",
      "dtype: int64\n",
      "link_ID                5609962\n",
      "date                   5609962\n",
      "travel_time            5609962\n",
      "time_interval_begin    5609962\n",
      "dtype: int64\n"
     ]
    },
    {
     "data": {
      "text/html": [
       "<div>\n",
       "<table border=\"1\" class=\"dataframe\">\n",
       "  <thead>\n",
       "    <tr style=\"text-align: right;\">\n",
       "      <th></th>\n",
       "      <th>link_ID</th>\n",
       "      <th>date</th>\n",
       "      <th>travel_time</th>\n",
       "      <th>time_interval_begin</th>\n",
       "    </tr>\n",
       "  </thead>\n",
       "  <tbody>\n",
       "    <tr>\n",
       "      <th>3</th>\n",
       "      <td>3377906285934510514</td>\n",
       "      <td>2017-05-06</td>\n",
       "      <td>3.303217</td>\n",
       "      <td>2017-05-06 17:46:00</td>\n",
       "    </tr>\n",
       "    <tr>\n",
       "      <th>5</th>\n",
       "      <td>3377906287934510514</td>\n",
       "      <td>2017-05-06</td>\n",
       "      <td>1.887070</td>\n",
       "      <td>2017-05-06 14:36:00</td>\n",
       "    </tr>\n",
       "    <tr>\n",
       "      <th>8</th>\n",
       "      <td>3377906287674510514</td>\n",
       "      <td>2017-05-06</td>\n",
       "      <td>1.931521</td>\n",
       "      <td>2017-05-06 06:30:00</td>\n",
       "    </tr>\n",
       "    <tr>\n",
       "      <th>14</th>\n",
       "      <td>3377906287886510514</td>\n",
       "      <td>2017-05-06</td>\n",
       "      <td>3.616309</td>\n",
       "      <td>2017-05-06 07:32:00</td>\n",
       "    </tr>\n",
       "    <tr>\n",
       "      <th>24</th>\n",
       "      <td>4377906283759500514</td>\n",
       "      <td>2017-05-06</td>\n",
       "      <td>2.140066</td>\n",
       "      <td>2017-05-06 13:24:00</td>\n",
       "    </tr>\n",
       "  </tbody>\n",
       "</table>\n",
       "</div>"
      ],
      "text/plain": [
       "                link_ID        date  travel_time time_interval_begin\n",
       "3   3377906285934510514  2017-05-06     3.303217 2017-05-06 17:46:00\n",
       "5   3377906287934510514  2017-05-06     1.887070 2017-05-06 14:36:00\n",
       "8   3377906287674510514  2017-05-06     1.931521 2017-05-06 06:30:00\n",
       "14  3377906287886510514  2017-05-06     3.616309 2017-05-06 07:32:00\n",
       "24  4377906283759500514  2017-05-06     2.140066 2017-05-06 13:24:00"
      ]
     },
     "execution_count": 6,
     "metadata": {},
     "output_type": "execute_result"
    }
   ],
   "source": [
    "from sklearn.model_selection import train_test_split\n",
    "import pandas as pd\n",
    "import numpy as np\n",
    "import matplotlib.pyplot as plt\n",
    "\n",
    "from sklearn import linear_model\n",
    "from scipy.interpolate import UnivariateSpline\n",
    "import xgboost as xgb\n",
    "\n",
    "def quantile_clip(group):\n",
    "    group[group < group.quantile(.05)] = group.quantile(.05)\n",
    "    group[group > group.quantile(.95)] = group.quantile(.95)\n",
    "    return group\n",
    "\n",
    "# 读取四五六七月数据\n",
    "df = pd.read_csv('data/quaterfinal_gy_cmp_training_traveltime.txt', delimiter=';', dtype={'link_ID': object})\n",
    "df['time_interval_begin'] = pd.to_datetime(df['time_interval'].map(lambda x: x[1:20]))\n",
    "\n",
    "# 读取三月数据\n",
    "df_second = pd.read_csv('data/gy_contest_traveltime_training_data_second.txt', delimiter=';', dtype={'link_ID': object})\n",
    "df_second = df_second.rename(columns={'linkID': 'link_ID'})\n",
    "df_second['time_interval_begin'] = pd.to_datetime(df_second['time_interval'].map(lambda x: x[1:20]))\n",
    "df_second = df_second.loc[(df_second['time_interval_begin'] >= pd.to_datetime('2017-03-01')) & \n",
    "                          (df_second['time_interval_begin'] <= pd.to_datetime('2017-03-31'))]\n",
    "df_concat = pd.concat([df, df_second])\n",
    "df_concat = df_concat.drop(['time_interval'], axis=1)\n",
    "'''\n",
    "save\n",
    "'''\n",
    "# 保存三四五六七月份数据\n",
    "df_concat.to_csv('data/df_concat.txt', header=True, index=None, sep=';', mode='w')\n",
    "print df_concat.count()\n",
    "\n",
    "#每天6, 7, 8, 13, 14, 15, 16, 17, 18数据\n",
    "# df_select = df_concat.loc[(df_concat['time_interval_begin'].dt.hour.isin([6, 7, 8, 13, 14, 15, 16, 17, 18]))]\n",
    "\n",
    "df_concat['travel_time'] = np.log1p(df_concat['travel_time'])\n",
    "df_concat['travel_time'] = df_concat.groupby(['link_ID', 'date'])['travel_time'].transform(quantile_clip)\n",
    "\n",
    "df_concat = df_concat.loc[(df_concat['time_interval_begin'].dt.hour.isin([6, 7, 8, 13, 14, 15, 16, 17, 18]))]\n",
    "'''\n",
    "save\n",
    "'''\n",
    "df_concat.to_csv('data/df_select.txt', header=True, index=None, sep=';', mode='w')\n",
    "\n",
    "print df_concat.count()\n",
    "df_concat.head()"
   ]
  },
  {
   "cell_type": "markdown",
   "metadata": {},
   "source": [
    "## 填充nan"
   ]
  },
  {
   "cell_type": "code",
   "execution_count": 8,
   "metadata": {
    "collapsed": true
   },
   "outputs": [],
   "source": [
    "df_select = pd.read_csv('data/df_select.txt', delimiter=';', \n",
    "                        parse_dates=['time_interval_begin'], dtype={'link_ID': object})\n",
    "links_infos = pd.read_csv('data/gy_contest_link_info.txt', delimiter=';', dtype={'link_ID': object})\n",
    "date_range = pd.date_range('2017-03-01 00:00:00', '2017-07-31 23:58:00', freq='2min')\n",
    "new_index = pd.MultiIndex.from_product([links_infos['link_ID'].unique(), date_range],\n",
    "                                       names=['link_ID', 'time_interval_begin'])\n",
    "new_df = pd.DataFrame(index=new_index).reset_index()\n",
    "\n",
    "df_fillna = pd.merge(new_df, df_select, on=['link_ID', 'time_interval_begin'], how='left')\n",
    "df_fillna = df_fillna.loc[(df_fillna['time_interval_begin'].dt.hour.isin([6, 7, 8, 13, 14, 15, 16, 17, 18]))]"
   ]
  },
  {
   "cell_type": "code",
   "execution_count": 9,
   "metadata": {},
   "outputs": [
    {
     "name": "stdout",
     "output_type": "stream",
     "text": [
      "link_ID                5049000\n",
      "time_interval_begin    5049000\n",
      "date                   5049000\n",
      "travel_time            4626850\n",
      "dtype: int64\n"
     ]
    },
    {
     "data": {
      "text/html": [
       "<div>\n",
       "<table border=\"1\" class=\"dataframe\">\n",
       "  <thead>\n",
       "    <tr style=\"text-align: right;\">\n",
       "      <th></th>\n",
       "      <th>link_ID</th>\n",
       "      <th>time_interval_begin</th>\n",
       "      <th>date</th>\n",
       "      <th>travel_time</th>\n",
       "    </tr>\n",
       "  </thead>\n",
       "  <tbody>\n",
       "    <tr>\n",
       "      <th>180</th>\n",
       "      <td>4377906289869500514</td>\n",
       "      <td>2017-03-01 06:00:00</td>\n",
       "      <td>2017-03-01</td>\n",
       "      <td>2.174752</td>\n",
       "    </tr>\n",
       "    <tr>\n",
       "      <th>181</th>\n",
       "      <td>4377906289869500514</td>\n",
       "      <td>2017-03-01 06:02:00</td>\n",
       "      <td>2017-03-01</td>\n",
       "      <td>2.174752</td>\n",
       "    </tr>\n",
       "    <tr>\n",
       "      <th>182</th>\n",
       "      <td>4377906289869500514</td>\n",
       "      <td>2017-03-01 06:04:00</td>\n",
       "      <td>2017-03-01</td>\n",
       "      <td>2.174752</td>\n",
       "    </tr>\n",
       "    <tr>\n",
       "      <th>183</th>\n",
       "      <td>4377906289869500514</td>\n",
       "      <td>2017-03-01 06:06:00</td>\n",
       "      <td>2017-03-01</td>\n",
       "      <td>2.174752</td>\n",
       "    </tr>\n",
       "    <tr>\n",
       "      <th>184</th>\n",
       "      <td>4377906289869500514</td>\n",
       "      <td>2017-03-01 06:08:00</td>\n",
       "      <td>2017-03-01</td>\n",
       "      <td>2.174752</td>\n",
       "    </tr>\n",
       "  </tbody>\n",
       "</table>\n",
       "</div>"
      ],
      "text/plain": [
       "                 link_ID time_interval_begin        date  travel_time\n",
       "180  4377906289869500514 2017-03-01 06:00:00  2017-03-01     2.174752\n",
       "181  4377906289869500514 2017-03-01 06:02:00  2017-03-01     2.174752\n",
       "182  4377906289869500514 2017-03-01 06:04:00  2017-03-01     2.174752\n",
       "183  4377906289869500514 2017-03-01 06:06:00  2017-03-01     2.174752\n",
       "184  4377906289869500514 2017-03-01 06:08:00  2017-03-01     2.174752"
      ]
     },
     "execution_count": 9,
     "metadata": {},
     "output_type": "execute_result"
    }
   ],
   "source": [
    "# 去掉2017.07 8时，15时，18时数据\n",
    "df_fillna = df_fillna.loc[~(\n",
    "    (df_fillna['time_interval_begin'].dt.year == 2017) & \n",
    "    (df_fillna['time_interval_begin'].dt.month == 7) & \n",
    "    (df_fillna['time_interval_begin'].dt.hour.isin([8, 15, 18]))\n",
    ")]\n",
    "# 去掉2017.03.31 数据\n",
    "df_fillna = df_fillna.loc[~(\n",
    "    (df_fillna['time_interval_begin'].dt.year == 2017) & \n",
    "    (df_fillna['time_interval_begin'].dt.month == 3) & \n",
    "    (df_fillna['time_interval_begin'].dt.day == 31)\n",
    ")]\n",
    "\n",
    "df_fillna['date'] = df_fillna['time_interval_begin'].dt.strftime('%Y-%m-%d')\n",
    "df_fillna.to_csv('data/df_fillna.txt', header=True, index=None, sep=';', mode='w')\n",
    "\n",
    "print df_fillna.count()\n",
    "df_fillna.head()"
   ]
  },
  {
   "cell_type": "markdown",
   "metadata": {},
   "source": [
    "## 开始补全\n",
    "- Seasonal date trend:季节趋势变化线\n",
    "  - 个别缺失严重路段采用中值作为趋势线\n",
    "  - 其余路段先计算出每小时的平均值，每个时间点对应一个平均值，使用LR预测缺失数据点的该平均值\n",
    "  - 最终travel_time减去date_trend\n",
    "- Daily hour trend：日趋势变化线\n",
    " - 当前时间片的历史趋势，计算该时间片的变化趋势\n",
    " - 最终travel_time减去date_trend"
   ]
  },
  {
   "cell_type": "code",
   "execution_count": 70,
   "metadata": {
    "collapsed": true
   },
   "outputs": [],
   "source": [
    "import pandas as pd\n",
    "import numpy as np\n",
    "import matplotlib.pyplot as plt\n",
    "\n",
    "df = pd.read_csv('data/df_fillna.txt', delimiter=';', parse_dates=['time_interval_begin'], dtype={'link_ID': object})\n",
    "df['travel_time2'] = df['travel_time']"
   ]
  },
  {
   "cell_type": "code",
   "execution_count": 71,
   "metadata": {
    "collapsed": true
   },
   "outputs": [],
   "source": [
    "# Seasonal date trend\n",
    "\n",
    "def date_trend(group):  # 每个group为一条link\n",
    "    tmp = group.groupby('date_hour').mean().reset_index()  # 每小时travel_time的平均值\n",
    "\n",
    "    def nan_helper(y):\n",
    "        return np.isnan(y), lambda z: z.nonzero()[0]\n",
    "\n",
    "    y = tmp['travel_time'].values  # 列表的形式取出每小时的平均travel_time\n",
    "    nans, x = nan_helper(y)  # x表示'travel_time'中的非零下标\n",
    "    # 个别路段缺失严重，采用中值作为趋势线\n",
    "    if group.link_ID.values[0] in ['3377906282328510514', '3377906283328510514', '4377906280784800514',\n",
    "                                   '9377906281555510514']:\n",
    "        tmp['date_trend'] = group['travel_time'].median()\n",
    "    else:\n",
    "        regr = linear_model.LinearRegression()\n",
    "        # LR模型的训练数据\n",
    "        # X非NAN数据的下表，Y非NAN数据travel_time每小时平均值\n",
    "        # .reshape(-1, 1)变成列数据\n",
    "        regr.fit(x(~nans).reshape(-1, 1), y[~nans].reshape(-1, 1))\n",
    "        tmp['date_trend'] = regr.predict(tmp.index.values.reshape(-1, 1)).ravel()  # 降成一维\n",
    "    \n",
    "    group = pd.merge(group, tmp[['date_trend', 'date_hour']], on='date_hour', how='left')\n",
    "#     plt.plot(tmp.index, tmp['date_trend'], 'o', tmp.index, tmp['travel_time'], 'ro')\n",
    "#     plt.title(group.link_ID.values[0])\n",
    "#     plt.show()\n",
    "    return group\n",
    "\n",
    "df['date_hour'] = df.time_interval_begin.map(lambda x: x.strftime('%Y-%m-%d-%H'))  # 2017-03-01-06\n",
    "df = df.groupby('link_ID').apply(date_trend)\n",
    "df = df.drop(['date_hour', 'link_ID'], axis=1)\n",
    "df = df.reset_index()  # 重排以后多出'level_1'列\n",
    "df = df.drop('level_1', axis=1)\n",
    "df['travel_time'] = df['travel_time'] - df['date_trend']"
   ]
  },
  {
   "cell_type": "code",
   "execution_count": 62,
   "metadata": {},
   "outputs": [
    {
     "data": {
      "image/png": "[encoded data removed]",
      "text/plain": [
       "<matplotlib.figure.Figure at 0x7f7ca8875450>"
      ]
     },
     "metadata": {},
     "output_type": "display_data"
    }
   ],
   "source": [
    "groups = df.groupby('link_ID')\n",
    "for name, group in groups:\n",
    "    tmp = group.groupby('hour_minute').mean().reset_index()\n",
    "    spl = UnivariateSpline(tmp.index, tmp['travel_time'].values, s=1, k=3)  # 参数可调整\n",
    "    tmp['minute_trend'] = spl(tmp.index)\n",
    "    plt.plot(tmp.index, spl(tmp.index), 'r', tmp.index, tmp['travel_time'], 'o')\n",
    "    plt.title(group.link_ID.values[0])\n",
    "    plt.show()\n",
    "    break"
   ]
  },
  {
   "cell_type": "code",
   "execution_count": 72,
   "metadata": {
    "collapsed": true
   },
   "outputs": [],
   "source": [
    "# Daily hour trend\n",
    "def minute_trend(group):\n",
    "    tmp = group.groupby('hour_minute').mean().reset_index()  # 一天分为720时间片，聚集每个时间片\n",
    "    # k,光滑度；s,Positive smoothing factor used to choose the number of knots.\n",
    "    spl = UnivariateSpline(tmp.index, tmp['travel_time'].values, s=1, k=3)\n",
    "    tmp['minute_trend'] = spl(tmp.index)\n",
    "    group = pd.merge(group, tmp[['minute_trend', 'hour_minute']], on='hour_minute', how='left')\n",
    "\n",
    "    return group\n",
    "\n",
    "df['hour_minute'] = df.time_interval_begin.map(lambda x: x.strftime('%H-%M'))\n",
    "df = df.groupby('link_ID').apply(minute_trend)\n",
    "\n",
    "df = df.drop(['hour_minute', 'link_ID'], axis=1)\n",
    "df = df.reset_index()\n",
    "df = df.drop('level_1', axis=1)\n",
    "df['travel_time'] = df['travel_time'] - df['minute_trend']"
   ]
  },
  {
   "cell_type": "code",
   "execution_count": 73,
   "metadata": {
    "collapsed": true
   },
   "outputs": [],
   "source": [
    "df.to_csv('data/df_date_daily_trend.txt', header=True, index=None, sep=';', mode='w')"
   ]
  },
  {
   "cell_type": "code",
   "execution_count": 90,
   "metadata": {
    "collapsed": true
   },
   "outputs": [],
   "source": [
    "df = pd.read_csv('data/df_date_daily_trend.txt', delimiter=';', \n",
    "                 parse_dates=['time_interval_begin'], dtype={'link_ID': object})"
   ]
  },
  {
   "cell_type": "code",
   "execution_count": 91,
   "metadata": {
    "collapsed": true
   },
   "outputs": [],
   "source": [
    "link_infos = pd.read_csv('data/gy_contest_link_info.txt', delimiter=';', dtype={'link_ID': object})\n",
    "link_tops = pd.read_csv('data/gy_contest_link_top.txt', delimiter=';', dtype={'link_ID': object})\n",
    "link_tops['in_links'] = link_tops['in_links'].str.len().apply(lambda x: np.floor(x / 19))  # 计算in_link数\n",
    "link_tops['out_links'] = link_tops['out_links'].str.len().apply(lambda x: np.floor(x / 19))  # 计算out_link数\n",
    "link_tops = link_tops.fillna(0)\n",
    "link_infos = pd.merge(link_infos, link_tops, on=['link_ID'], how='left')\n",
    "\n",
    "link_infos['links_num'] = link_infos[\"in_links\"].astype('str') + \",\" + link_infos[\"out_links\"].astype('str')\n",
    "link_infos['area'] = link_infos['length'] * link_infos['width']\n",
    "df = pd.merge(df, link_infos[['link_ID', 'length', 'width', 'links_num', 'area']], on=['link_ID'], how='left')\n",
    "\n",
    "df.loc[df['date'].isin(\n",
    "    ['2017-04-02', '2017-04-03', '2017-04-04', '2017-04-29', '2017-04-30', '2017-05-01',\n",
    "     '2017-05-28', '2017-05-29', '2017-05-30']), 'vacation'] = 1\n",
    "\n",
    "df.loc[~df['date'].isin(\n",
    "    ['2017-04-02', '2017-04-03', '2017-04-04', '2017-04-29', '2017-04-30', '2017-05-01',\n",
    "     '2017-05-28', '2017-05-29', '2017-05-30']), 'vacation'] = 0\n",
    "\n",
    "df['minute'] = df['time_interval_begin'].dt.minute\n",
    "df['hour'] = df['time_interval_begin'].dt.hour\n",
    "df['day'] = df['time_interval_begin'].dt.day\n",
    "df['week_day'] = df['time_interval_begin'].map(lambda x: x.weekday() + 1)\n",
    "df['month'] = df['time_interval_begin'].dt.month"
   ]
  },
  {
   "cell_type": "code",
   "execution_count": 92,
   "metadata": {
    "collapsed": true
   },
   "outputs": [],
   "source": [
    "def mean_time(group):\n",
    "    group['link_ID_en'] = group['travel_time'].mean()  # 每条路travel_time的均值\n",
    "    return group\n",
    "\n",
    "df = df.groupby('link_ID').apply(mean_time)\n",
    "sorted_link = np.sort(df['link_ID_en'].unique())  # 计算出所有每天路的平均值，从小到大排序\n",
    "df['link_ID_en'] = df['link_ID_en'].map(lambda x: np.argmin(x >= sorted_link))  # link_ID_en值为排序的等级\n",
    "\n",
    "def std(group):\n",
    "    group['travel_time_std'] = np.std(group['travel_time'])\n",
    "    return group\n",
    "\n",
    "df = df.groupby('link_ID').apply(std)\n",
    "df['travel_time'] = df['travel_time'] / df['travel_time_std']  # 除以标准差，归一化"
   ]
  },
  {
   "cell_type": "code",
   "execution_count": 93,
   "metadata": {
    "collapsed": true
   },
   "outputs": [],
   "source": [
    "df = pd.get_dummies(df, columns=['links_num', 'width', 'minute', 'hour', 'week_day', 'day', 'month'])"
   ]
  },
  {
   "cell_type": "code",
   "execution_count": 95,
   "metadata": {},
   "outputs": [
    {
     "name": "stdout",
     "output_type": "stream",
     "text": [
      "['length', 'area', 'vacation', 'link_ID_en', 'links_num_0.0,1.0', 'links_num_0.0,2.0', 'links_num_1.0,0.0', 'links_num_1.0,1.0', 'links_num_1.0,2.0', 'links_num_1.0,3.0', 'links_num_1.0,4.0', 'links_num_2.0,0.0', 'links_num_2.0,1.0', 'links_num_2.0,2.0', 'links_num_3.0,1.0', 'links_num_4.0,1.0', 'width_3', 'width_6', 'width_9', 'width_12', 'width_15', 'minute_0', 'minute_2', 'minute_4', 'minute_6', 'minute_8', 'minute_10', 'minute_12', 'minute_14', 'minute_16', 'minute_18', 'minute_20', 'minute_22', 'minute_24', 'minute_26', 'minute_28', 'minute_30', 'minute_32', 'minute_34', 'minute_36', 'minute_38', 'minute_40', 'minute_42', 'minute_44', 'minute_46', 'minute_48', 'minute_50', 'minute_52', 'minute_54', 'minute_56', 'minute_58', 'hour_6', 'hour_7', 'hour_8', 'hour_13', 'hour_14', 'hour_15', 'hour_16', 'hour_17', 'hour_18', 'week_day_1', 'week_day_2', 'week_day_3', 'week_day_4', 'week_day_5', 'week_day_6', 'week_day_7', 'day_1', 'day_2', 'day_3', 'day_4', 'day_5', 'day_6', 'day_7', 'day_8', 'day_9', 'day_10', 'day_11', 'day_12', 'day_13', 'day_14', 'day_15', 'day_16', 'day_17', 'day_18', 'day_19', 'day_20', 'day_21', 'day_22', 'day_23', 'day_24', 'day_25', 'day_26', 'day_27', 'day_28', 'day_29', 'day_30', 'day_31', 'month_3', 'month_4', 'month_5', 'month_6', 'month_7']\n"
     ]
    }
   ],
   "source": [
    "feature = df.columns.values.tolist()\n",
    "\n",
    "train_feature = [x for x in feature if\n",
    "                     x not in ['link_ID', 'time_interval_begin', 'travel_time', 'date', 'travel_time2', 'minute_trend',\n",
    "                               'travel_time_std', 'date_trend']]\n",
    "print train_feature"
   ]
  },
  {
   "cell_type": "code",
   "execution_count": 96,
   "metadata": {
    "collapsed": true
   },
   "outputs": [],
   "source": [
    "train_df = df.loc[~df['travel_time'].isnull()]\n",
    "test_df = df.loc[df['travel_time'].isnull()].copy()"
   ]
  },
  {
   "cell_type": "code",
   "execution_count": 97,
   "metadata": {},
   "outputs": [
    {
     "name": "stdout",
     "output_type": "stream",
     "text": [
      "[0]\tvalidation_0-rmse:1.0738\n",
      "Will train until validation_0-rmse hasn't improved in 10 rounds.\n",
      "[1]\tvalidation_0-rmse:1.04276\n",
      "[2]\tvalidation_0-rmse:1.02049\n",
      "[3]\tvalidation_0-rmse:1.00555\n",
      "[4]\tvalidation_0-rmse:0.99333\n",
      "[5]\tvalidation_0-rmse:0.985955\n",
      "[6]\tvalidation_0-rmse:0.980641\n",
      "[7]\tvalidation_0-rmse:0.976668\n",
      "[8]\tvalidation_0-rmse:0.974308\n",
      "[9]\tvalidation_0-rmse:0.971768\n",
      "[10]\tvalidation_0-rmse:0.96941\n",
      "[11]\tvalidation_0-rmse:0.966996\n",
      "[12]\tvalidation_0-rmse:0.965311\n",
      "[13]\tvalidation_0-rmse:0.963923\n",
      "[14]\tvalidation_0-rmse:0.962694\n",
      "[15]\tvalidation_0-rmse:0.961192\n",
      "[16]\tvalidation_0-rmse:0.960221\n",
      "[17]\tvalidation_0-rmse:0.959321\n",
      "[18]\tvalidation_0-rmse:0.95877\n",
      "[19]\tvalidation_0-rmse:0.958007\n",
      "[20]\tvalidation_0-rmse:0.95727\n",
      "[21]\tvalidation_0-rmse:0.956597\n",
      "[22]\tvalidation_0-rmse:0.955705\n",
      "[23]\tvalidation_0-rmse:0.955134\n",
      "[24]\tvalidation_0-rmse:0.954388\n",
      "[25]\tvalidation_0-rmse:0.953335\n",
      "[26]\tvalidation_0-rmse:0.952746\n",
      "[27]\tvalidation_0-rmse:0.952359\n",
      "[28]\tvalidation_0-rmse:0.952124\n",
      "[29]\tvalidation_0-rmse:0.951227\n"
     ]
    }
   ],
   "source": [
    "# 填充\n",
    "params = {\n",
    "    'learning_rate': 0.2,\n",
    "    'n_estimators': 30,\n",
    "    'subsample': 0.8,\n",
    "    'colsample_bytree': 0.6,\n",
    "    'max_depth': 10,\n",
    "    'min_child_weight': 1,\n",
    "    'reg_alpha': 0,\n",
    "    'gamma': 0\n",
    "}\n",
    "\n",
    "X = train_df[train_feature].values\n",
    "y = train_df['travel_time'].values\n",
    "\n",
    "X_train, X_test, y_train, y_test = train_test_split(X, y, test_size=0.1, random_state=0)\n",
    "\n",
    "eval_set = [(X_test, y_test)]\n",
    "regressor = xgb.XGBRegressor(learning_rate=params['learning_rate'], n_estimators=params['n_estimators'],\n",
    "                             objective='reg:linear', subsample=params['subsample'],\n",
    "                             colsample_bytree=params['colsample_bytree'],\n",
    "                             max_depth=params['max_depth'], gamma=params['gamma'],\n",
    "                             min_child_weight=params['min_child_weight'], reg_alpha=params['reg_alpha'])\n",
    "\n",
    "\n",
    "regressor.fit(X_train, y_train, verbose=True, early_stopping_rounds=10, eval_set=eval_set)\n",
    "\n",
    "test_df['prediction'] = regressor.predict(test_df[train_feature].values)\n",
    "\n",
    "df = pd.merge(df, test_df[['link_ID', 'time_interval_begin', 'prediction']], on=['link_ID', 'time_interval_begin'],\n",
    "              how='left')\n",
    "\n",
    "# feature_vis(regressor,train_feature)\n",
    "\n",
    "df['imputation1'] = df['travel_time'].isnull()  # 标记是否是填充的缺失值\n",
    "df['travel_time'] = df['travel_time'].fillna(value=df['prediction'])\n",
    "df['travel_time'] = (df['travel_time'] * np.array(df['travel_time_std']) + np.array(df['minute_trend'])\n",
    "                     + np.array(df['date_trend']))"
   ]
  },
  {
   "cell_type": "code",
   "execution_count": null,
   "metadata": {
    "collapsed": true
   },
   "outputs": [],
   "source": [
    "def feature_vis(regressor, train_feature):\n",
    "    importances = regressor.feature_importances_\n",
    "    indices = np.argsort(importances)[::-1]\n",
    "    selected_features = [train_feature[e] for e in indices]\n",
    "    plt.figure(figsize=(20, 10))\n",
    "    plt.title(\"train_feature importances\")\n",
    "    plt.bar(range(len(train_feature)), importances[indices],\n",
    "            color=\"r\", align=\"center\")\n",
    "    plt.xticks(range(len(selected_features)), selected_features, rotation=70)\n",
    "    plt.show()"
   ]
  },
  {
   "cell_type": "code",
   "execution_count": 103,
   "metadata": {},
   "outputs": [
    {
     "data": {
      "image/png": "[encoded data removed]",
      "text/plain": [
       "<matplotlib.figure.Figure at 0x7f7cd53d26d0>"
      ]
     },
     "metadata": {},
     "output_type": "display_data"
    }
   ],
   "source": [
    "def vis(group):\n",
    "    group['travel_time'].plot()\n",
    "    tmp = group.loc[group['imputation1'] == True]\n",
    "    plt.scatter(tmp.index, tmp['travel_time'], c='r')\n",
    "    plt.show()\n",
    "# df.groupby(['link_ID', 'date']).apply(vis)\n",
    "groups = df.groupby(['link_ID', 'date'])\n",
    "for name, group in groups:\n",
    "    group['travel_time'].plot()\n",
    "    tmp = group.loc[group['imputation1'] == True]\n",
    "    plt.scatter(tmp.index, tmp['travel_time'], c='r')  # 红色部分为填充的数据\n",
    "    plt.show()\n",
    "    break"
   ]
  },
  {
   "cell_type": "code",
   "execution_count": 99,
   "metadata": {
    "collapsed": true
   },
   "outputs": [],
   "source": [
    "df[['link_ID', 'date', 'time_interval_begin', 'travel_time', 'imputation1']].to_csv('data/com_training.txt', header=True,\n",
    "                                                                                        index=None,\n",
    "                                                                                        sep=';', mode='w')"
   ]
  },
  {
   "cell_type": "code",
   "execution_count": 104,
   "metadata": {},
   "outputs": [
    {
     "name": "stdout",
     "output_type": "stream",
     "text": [
      "        travel_time     prediction  travel_time2\n",
      "count  5.049000e+06  422150.000000  4.626850e+06\n",
      "mean   2.417304e+00      -0.008269  2.436141e+00\n",
      "std    9.455781e-01       0.170118  9.555424e-01\n",
      "min    3.364722e-01      -1.489307  3.364722e-01\n",
      "25%    1.667707e+00      -0.078825  1.667707e+00\n",
      "50%    2.388763e+00      -0.013112  2.415914e+00\n",
      "75%    3.104587e+00       0.069935  3.135494e+00\n",
      "max    6.000982e+00       2.927161  6.000982e+00\n"
     ]
    }
   ],
   "source": [
    "print df[['travel_time', 'prediction', 'travel_time2']].describe()"
   ]
  },
  {
   "cell_type": "markdown",
   "metadata": {},
   "source": [
    "## 分析提取特征"
   ]
  },
  {
   "cell_type": "code",
   "execution_count": 3,
   "metadata": {
    "collapsed": true
   },
   "outputs": [],
   "source": [
    "df = pd.read_csv('data/com_training.txt', delimiter=';', parse_dates=['time_interval_begin'], dtype={'link_ID': object})"
   ]
  },
  {
   "cell_type": "code",
   "execution_count": 4,
   "metadata": {
    "collapsed": true
   },
   "outputs": [],
   "source": [
    "def create_lagging(df, df_original, i):\n",
    "    df1 = df_original.copy()\n",
    "    df1['time_interval_begin'] = df1['time_interval_begin'] + pd.DateOffset(minutes=i * 2)\n",
    "    df1 = df1.rename(columns={'travel_time': 'lagging' + str(i)})\n",
    "    df2 = pd.merge(df, df1[['link_ID', 'time_interval_begin', 'lagging' + str(i)]],\n",
    "                   on=['link_ID', 'time_interval_begin'],\n",
    "                   how='left')\n",
    "    return df2\n",
    "\n",
    "df1 = create_lagging(df, df, 1)\n",
    "\n",
    "for i in range(2, 6):\n",
    "    df1 = create_lagging(df1, df, i)"
   ]
  },
  {
   "cell_type": "code",
   "execution_count": 110,
   "metadata": {},
   "outputs": [
    {
     "data": {
      "text/html": [
       "<div>\n",
       "<table border=\"1\" class=\"dataframe\">\n",
       "  <thead>\n",
       "    <tr style=\"text-align: right;\">\n",
       "      <th></th>\n",
       "      <th>link_ID</th>\n",
       "      <th>date</th>\n",
       "      <th>time_interval_begin</th>\n",
       "      <th>travel_time</th>\n",
       "      <th>imputation1</th>\n",
       "      <th>lagging1</th>\n",
       "      <th>lagging2</th>\n",
       "      <th>lagging3</th>\n",
       "      <th>lagging4</th>\n",
       "      <th>lagging5</th>\n",
       "    </tr>\n",
       "  </thead>\n",
       "  <tbody>\n",
       "    <tr>\n",
       "      <th>0</th>\n",
       "      <td>3377906280028510514</td>\n",
       "      <td>2017-03-01</td>\n",
       "      <td>2017-03-01 06:00:00</td>\n",
       "      <td>1.657881</td>\n",
       "      <td>True</td>\n",
       "      <td>NaN</td>\n",
       "      <td>NaN</td>\n",
       "      <td>NaN</td>\n",
       "      <td>NaN</td>\n",
       "      <td>NaN</td>\n",
       "    </tr>\n",
       "    <tr>\n",
       "      <th>1</th>\n",
       "      <td>3377906280028510514</td>\n",
       "      <td>2017-03-01</td>\n",
       "      <td>2017-03-01 06:02:00</td>\n",
       "      <td>1.658394</td>\n",
       "      <td>True</td>\n",
       "      <td>1.657881</td>\n",
       "      <td>NaN</td>\n",
       "      <td>NaN</td>\n",
       "      <td>NaN</td>\n",
       "      <td>NaN</td>\n",
       "    </tr>\n",
       "    <tr>\n",
       "      <th>2</th>\n",
       "      <td>3377906280028510514</td>\n",
       "      <td>2017-03-01</td>\n",
       "      <td>2017-03-01 06:04:00</td>\n",
       "      <td>1.672953</td>\n",
       "      <td>True</td>\n",
       "      <td>1.658394</td>\n",
       "      <td>1.657881</td>\n",
       "      <td>NaN</td>\n",
       "      <td>NaN</td>\n",
       "      <td>NaN</td>\n",
       "    </tr>\n",
       "    <tr>\n",
       "      <th>3</th>\n",
       "      <td>3377906280028510514</td>\n",
       "      <td>2017-03-01</td>\n",
       "      <td>2017-03-01 06:06:00</td>\n",
       "      <td>1.676887</td>\n",
       "      <td>True</td>\n",
       "      <td>1.672953</td>\n",
       "      <td>1.658394</td>\n",
       "      <td>1.657881</td>\n",
       "      <td>NaN</td>\n",
       "      <td>NaN</td>\n",
       "    </tr>\n",
       "    <tr>\n",
       "      <th>4</th>\n",
       "      <td>3377906280028510514</td>\n",
       "      <td>2017-03-01</td>\n",
       "      <td>2017-03-01 06:08:00</td>\n",
       "      <td>1.680537</td>\n",
       "      <td>True</td>\n",
       "      <td>1.676887</td>\n",
       "      <td>1.672953</td>\n",
       "      <td>1.658394</td>\n",
       "      <td>1.657881</td>\n",
       "      <td>NaN</td>\n",
       "    </tr>\n",
       "  </tbody>\n",
       "</table>\n",
       "</div>"
      ],
      "text/plain": [
       "               link_ID        date time_interval_begin  travel_time  \\\n",
       "0  3377906280028510514  2017-03-01 2017-03-01 06:00:00     1.657881   \n",
       "1  3377906280028510514  2017-03-01 2017-03-01 06:02:00     1.658394   \n",
       "2  3377906280028510514  2017-03-01 2017-03-01 06:04:00     1.672953   \n",
       "3  3377906280028510514  2017-03-01 2017-03-01 06:06:00     1.676887   \n",
       "4  3377906280028510514  2017-03-01 2017-03-01 06:08:00     1.680537   \n",
       "\n",
       "  imputation1  lagging1  lagging2  lagging3  lagging4  lagging5  \n",
       "0        True       NaN       NaN       NaN       NaN       NaN  \n",
       "1        True  1.657881       NaN       NaN       NaN       NaN  \n",
       "2        True  1.658394  1.657881       NaN       NaN       NaN  \n",
       "3        True  1.672953  1.658394  1.657881       NaN       NaN  \n",
       "4        True  1.676887  1.672953  1.658394  1.657881       NaN  "
      ]
     },
     "execution_count": 110,
     "metadata": {},
     "output_type": "execute_result"
    }
   ],
   "source": [
    "df1[df1['date'] == '2017-03-06']"
   ]
  },
  {
   "cell_type": "code",
   "execution_count": 42,
   "metadata": {
    "collapsed": true
   },
   "outputs": [],
   "source": [
    "# 长、宽特征\n",
    "link_infos = pd.read_csv('data/gy_contest_link_info.txt', delimiter=';', dtype={'link_ID': object})\n",
    "link_tops = pd.read_csv('data/gy_contest_link_top.txt', delimiter=';', dtype={'link_ID': object})\n",
    "link_tops['in_links'] = link_tops['in_links'].str.len().apply(lambda x: np.floor(x / 19))\n",
    "link_tops['out_links'] = link_tops['out_links'].str.len().apply(lambda x: np.floor(x / 19))\n",
    "link_tops = link_tops.fillna(0)\n",
    "link_infos = pd.merge(link_infos, link_tops, on=['link_ID'], how='left')\n",
    "link_infos['links_num'] = link_infos[\"in_links\"].astype('str') + \",\" + link_infos[\"out_links\"].astype('str')\n",
    "link_infos['area'] = link_infos['length'] * link_infos['width']\n",
    "df2 = pd.merge(df1, link_infos[['link_ID', 'length', 'width', 'links_num', 'area']], on=['link_ID'], how='left')\n",
    "\n",
    "# links_num feature\n",
    "df2.loc[df2['links_num'].isin(['0.0,2.0', '2.0,0.0', '1.0,0.0']), 'links_num'] = 'other'\n",
    "# df.boxplot(by=['links_num'], column='travel_time')\n",
    "# plt.show()\n",
    "\n",
    "# vacation feature\n",
    "df2.loc[df2['date'].isin(\n",
    "    ['2017-04-02', '2017-04-03', '2017-04-04', '2017-04-29', '2017-04-30', '2017-05-01',\n",
    "     '2017-05-28', '2017-05-29', '2017-05-30']), 'vacation'] = 1\n",
    "df2.loc[~df2['date'].isin(\n",
    "    ['2017-04-02', '2017-04-03', '2017-04-04', '2017-04-29', '2017-04-30', '2017-05-01',\n",
    "     '2017-05-28', '2017-05-29', '2017-05-30']), 'vacation'] = 0\n",
    "\n",
    "# minute_series for CV\n",
    "df2.loc[df2['time_interval_begin'].dt.hour.isin([6, 7, 8]), 'minute_series'] = \\\n",
    "    df2['time_interval_begin'].dt.minute + (df2['time_interval_begin'].dt.hour - 6) * 60\n",
    "\n",
    "df2.loc[df2['time_interval_begin'].dt.hour.isin([13, 14, 15]), 'minute_series'] = \\\n",
    "    df2['time_interval_begin'].dt.minute + (df2['time_interval_begin'].dt.hour - 13) * 60\n",
    "\n",
    "df2.loc[df2['time_interval_begin'].dt.hour.isin([16, 17, 18]), 'minute_series'] = \\\n",
    "    df2['time_interval_begin'].dt.minute + (df2['time_interval_begin'].dt.hour - 16) * 60\n",
    "\n",
    "# day_of_week_en feature\n",
    "df2['day_of_week'] = df2['time_interval_begin'].map(lambda x: x.weekday() + 1)\n",
    "df2.loc[df2['day_of_week'].isin([1, 2, 3]), 'day_of_week_en'] = 1\n",
    "df2.loc[df2['day_of_week'].isin([4, 5]), 'day_of_week_en'] = 2\n",
    "df2.loc[df2['day_of_week'].isin([6, 7]), 'day_of_week_en'] = 3\n",
    "\n",
    "# hour_en feature\n",
    "df2.loc[df['time_interval_begin'].dt.hour.isin([6, 7, 8]), 'hour_en'] = 1\n",
    "df2.loc[df['time_interval_begin'].dt.hour.isin([13, 14, 15]), 'hour_en'] = 2\n",
    "df2.loc[df['time_interval_begin'].dt.hour.isin([16, 17, 18]), 'hour_en'] = 3\n",
    "\n",
    "# week_hour feature\n",
    "df2['week_hour'] = df2[\"day_of_week_en\"].astype('str') + \",\" + df2[\"hour_en\"].astype('str')\n",
    "\n",
    "# df2.boxplot(by=['week_hour'], column='travel_time')\n",
    "# plt.show()\n",
    "\n",
    "df2 = pd.get_dummies(df2, columns=['week_hour', 'links_num', 'width'])\n",
    "\n",
    "# ID Label Encode\n",
    "def mean_time(group):\n",
    "    group['link_ID_en'] = group['travel_time'].mean()\n",
    "    return group\n",
    "\n",
    "df2 = df2.groupby('link_ID').apply(mean_time)\n",
    "sorted_link = np.sort(df2['link_ID_en'].unique())\n",
    "df2['link_ID_en'] = df2['link_ID_en'].map(lambda x: np.argmin(x >= sorted_link))\n",
    "# df.boxplot(by=['link_ID_en'], column='travel_time')\n",
    "# plt.show()"
   ]
  },
  {
   "cell_type": "code",
   "execution_count": 44,
   "metadata": {
    "collapsed": true
   },
   "outputs": [],
   "source": [
    "df2.to_csv(to_file, header=True, index=None, sep=';', mode='w')"
   ]
  },
  {
   "cell_type": "markdown",
   "metadata": {},
   "source": [
    "## 开始训练"
   ]
  },
  {
   "cell_type": "code",
   "execution_count": 5,
   "metadata": {
    "collapsed": true
   },
   "outputs": [],
   "source": [
    "# 长、宽特征\n",
    "link_infos = pd.read_csv('data/gy_contest_link_info.txt', delimiter=';', dtype={'link_ID': object})\n",
    "link_tops = pd.read_csv('data/gy_contest_link_top.txt', delimiter=';', dtype={'link_ID': object})\n",
    "link_tops['in_links'] = link_tops['in_links'].str.len().apply(lambda x: np.floor(x / 19))\n",
    "link_tops['out_links'] = link_tops['out_links'].str.len().apply(lambda x: np.floor(x / 19))\n",
    "link_tops = link_tops.fillna(0)\n",
    "link_infos = pd.merge(link_infos, link_tops, on=['link_ID'], how='left')\n",
    "link_infos['links_num'] = link_infos[\"in_links\"].astype('str') + \",\" + link_infos[\"out_links\"].astype('str')\n",
    "link_infos['area'] = link_infos['length'] * link_infos['width']\n",
    "df2 = pd.merge(df1, link_infos[['link_ID', 'length', 'width', 'links_num', 'area']], on=['link_ID'], how='left')\n",
    "\n",
    "# links_num feature\n",
    "df2.loc[df2['links_num'].isin(['0.0,2.0', '2.0,0.0', '1.0,0.0']), 'links_num'] = 'other'\n",
    "# df.boxplot(by=['links_num'], column='travel_time')\n",
    "# plt.show()\n",
    "\n",
    "# vacation feature\n",
    "df2.loc[df2['date'].isin(\n",
    "    ['2017-04-02', '2017-04-03', '2017-04-04', '2017-04-29', '2017-04-30', '2017-05-01',\n",
    "     '2017-05-28', '2017-05-29', '2017-05-30']), 'vacation'] = 1\n",
    "df2.loc[~df2['date'].isin(\n",
    "    ['2017-04-02', '2017-04-03', '2017-04-04', '2017-04-29', '2017-04-30', '2017-05-01',\n",
    "     '2017-05-28', '2017-05-29', '2017-05-30']), 'vacation'] = 0\n",
    "\n",
    "# # minute_series for CV\n",
    "df2.loc[df2['time_interval_begin'].dt.hour.isin([6, 7, 8]), 'minute_series'] = \\\n",
    "    df2['time_interval_begin'].dt.minute + (df2['time_interval_begin'].dt.hour - 6) * 60\n",
    "\n",
    "df2.loc[df2['time_interval_begin'].dt.hour.isin([13, 14, 15]), 'minute_series'] = \\\n",
    "    df2['time_interval_begin'].dt.minute + (df2['time_interval_begin'].dt.hour - 13) * 60\n",
    "\n",
    "df2.loc[df2['time_interval_begin'].dt.hour.isin([16, 17, 18]), 'minute_series'] = \\\n",
    "    df2['time_interval_begin'].dt.minute + (df2['time_interval_begin'].dt.hour - 16) * 60"
   ]
  },
  {
   "cell_type": "code",
   "execution_count": null,
   "metadata": {
    "collapsed": true
   },
   "outputs": [],
   "source": []
  }
 ],
 "metadata": {
  "kernelspec": {
   "display_name": "Python 3",
   "language": "python",
   "name": "python3"
  },
  "language_info": {
   "codemirror_mode": {
    "name": "ipython",
    "version": 3
   },
   "file_extension": ".py",
   "mimetype": "text/x-python",
   "name": "python",
   "nbconvert_exporter": "python",
   "pygments_lexer": "ipython3",
   "version": "3.5.4"
  }
 },
 "nbformat": 4,
 "nbformat_minor": 2
}
