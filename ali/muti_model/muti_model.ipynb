{
 "cells": [
  {
   "cell_type": "code",
   "execution_count": 29,
   "metadata": {},
   "outputs": [],
   "source": [
    "import pandas as pd\n",
    "import os\n",
    "import numpy as np\n",
    "from scipy.stats import mode"
   ]
  },
  {
   "cell_type": "code",
   "execution_count": 52,
   "metadata": {},
   "outputs": [
    {
     "name": "stdout",
     "output_type": "stream",
     "text": [
      ">>> read df_7_34567\n"
     ]
    }
   ],
   "source": [
    "if os.path.exists('../data/df_7_34567.txt'):\n",
    "    print('>>> read df_7_34567')\n",
    "    df = pd.read_csv('../data/df_7_34567.txt', delimiter=';', parse_dates=['time_interval_begin'], dtype={'link_ID': object})\n",
    "else:\n",
    "    print('>>> save and read df_7_34567')\n",
    "    df1 = pd.read_csv('../data/traveltime_2016_7_2017_4567.txt', delimiter=';', dtype={'link_ID': object})\n",
    "    df2 = pd.read_csv('../data/traveltime_2017_3456.txt', delimiter=';', dtype={'link_ID': object})\n",
    "\n",
    "    df2 = df2.rename(columns={'linkID': 'link_ID'})\n",
    "    df1['time_interval_begin'] = pd.to_datetime(df1['time_interval'].map(lambda x: x[1:20]))\n",
    "    df2['time_interval_begin'] = pd.to_datetime(df2['time_interval'].map(lambda x: x[1:20]))\n",
    "    df2 = df2.loc[(df2['time_interval_begin'] >= pd.to_datetime('2017-03-01')) & \n",
    "                  (df2['time_interval_begin'] <= pd.to_datetime('2017-03-31'))]\n",
    "    df = pd.concat([df1, df2])\n",
    "    df = df.drop(['time_interval'], axis=1)\n",
    "    df.to_csv('../data/df_7_34567.txt', header=True, index=None, sep=';', mode='w')"
   ]
  },
  {
   "cell_type": "code",
   "execution_count": 53,
   "metadata": {},
   "outputs": [],
   "source": [
    "df['time_interval_begin_minutes'] = df.time_interval_begin.dt.minute\n",
    "# 四月份数据\n",
    "train_data = df.loc[(df.time_interval_begin.dt.month == 4) & \n",
    "                    (df.time_interval_begin.dt.hour.isin([7, 8, 14, 15, 17, 18]))\n",
    "                   ]\n",
    "train_history = df.loc[(df.time_interval_begin.dt.month == 3)]"
   ]
  },
  {
   "cell_type": "code",
   "execution_count": 54,
   "metadata": {},
   "outputs": [],
   "source": [
    "# mode函数：出现次数最多的数，相同次数则返回最小\n",
    "def mode_function(df):\n",
    "    counts = mode(df)\n",
    "    return counts[0][0]\n",
    "\n",
    "train_history = df.loc[(df.time_interval_begin.dt.month == 3)]\n",
    "train_history = train_history.groupby(\n",
    "    ['link_ID', 'time_interval_begin_minutes'])['travel_time'].agg(\n",
    "    [('mean_m', np.mean), ('median_m', np.median), \n",
    "     ('mode_m', mode_function), ('std_m', np.std)\n",
    "    ]).reset_index()\n",
    "train_data = pd.merge(train_data, train_history, \n",
    "                      on=['link_ID', 'time_interval_begin_minutes'], \n",
    "                      how='left')\n",
    "train_data = train_data.loc[:, ['mean_m', 'median_m', 'mode_m', 'std_m', 'travel_time']].values"
   ]
  },
  {
   "cell_type": "code",
   "execution_count": 55,
   "metadata": {},
   "outputs": [],
   "source": [
    "test_data_df5 = df.loc[(df.time_interval_begin.dt.month == 5) & (df.time_interval_begin.dt.day >= 15) & \n",
    "                       (df.time_interval_begin.dt.hour.isin([7, 8, 14, 15, 17, 18]))\n",
    "                      ]\n",
    "test_history = df.loc[(df.time_interval_begin.dt.month == 4)]\n",
    "test_history = test_history.groupby(\n",
    "    ['link_ID', 'time_interval_begin_minutes'])['travel_time'].agg(\n",
    "    [('mean_m', np.mean), ('median_m', np.median), \n",
    "     ('mode_m', mode_function), ('std_m', np.std)\n",
    "    ]).reset_index()\n",
    "test_data_df5 = pd.merge(test_data_df5, test_history, \n",
    "                      on=['link_ID', 'time_interval_begin_minutes'], \n",
    "                      how='left')\n",
    "test_data5 = test_data_df5.loc[:, ['mean_m', 'median_m', 'mode_m', 'std_m', 'travel_time']].values"
   ]
  },
  {
   "cell_type": "code",
   "execution_count": 65,
   "metadata": {},
   "outputs": [
    {
     "name": "stdout",
     "output_type": "stream",
     "text": [
      "60\n"
     ]
    }
   ],
   "source": [
    "train_result = []\n",
    "for day in range(30*132):\n",
    "    for hour in range(3):\n",
    "        temp_data = train_data[(day * 6 * 30) + (2 * hour * 30):(day * 6 * 30) + (2 * hour * 30) + 60]\n",
    "        print(len(temp_data))\n",
    "        break\n",
    "    break\n",
    "#         if len(temp_data)<1:\n",
    "#             continue\n",
    "#         train_result.append(temp_data)"
   ]
  },
  {
   "cell_type": "code",
   "execution_count": 60,
   "metadata": {},
   "outputs": [
    {
     "data": {
      "text/plain": [
       "11091"
      ]
     },
     "execution_count": 60,
     "metadata": {},
     "output_type": "execute_result"
    }
   ],
   "source": [
    "len(train_result)"
   ]
  },
  {
   "cell_type": "code",
   "execution_count": null,
   "metadata": {},
   "outputs": [],
   "source": []
  }
 ],
 "metadata": {
  "kernelspec": {
   "display_name": "Python 3",
   "language": "python",
   "name": "python3"
  },
  "language_info": {
   "codemirror_mode": {
    "name": "ipython",
    "version": 3
   },
   "file_extension": ".py",
   "mimetype": "text/x-python",
   "name": "python",
   "nbconvert_exporter": "python",
   "pygments_lexer": "ipython3",
   "version": "3.5.4"
  }
 },
 "nbformat": 4,
 "nbformat_minor": 2
}
