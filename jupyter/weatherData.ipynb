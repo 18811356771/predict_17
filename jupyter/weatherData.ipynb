{
 "cells": [
  {
   "cell_type": "markdown",
   "metadata": {},
   "source": [
    "阿里云和国家气象信息中心联合推出\n",
    "\n",
    "全国每平方公里每小时的气象实况和预报数据[产品](http://nature.data.aliyun.com/getoken.html)\n",
    "\n",
    "当调用历史数据时，只能调用**最近三天**的。当调用预测数据时，可以调用**未来10天**的。\n",
    "\n",
    "## 根据准确经纬度查询点数据API"
   ]
  },
  {
   "cell_type": "code",
   "execution_count": 21,
   "metadata": {
    "collapsed": true
   },
   "outputs": [
    {
     "name": "stdout",
     "output_type": "stream",
     "text": [
      "{\n",
      "  \"data\": {\n",
      "    \"data_value_by_date_name_geometry\": {\n",
      "      \"unit\": \"摄氏度(°C)\",\n",
      "      \"value\": \"27.25231323242201\",\n",
      "      \"date\": \"2017071208_GMT+8\",\n",
      "      \"time_zone\": \"GMT+8\"\n",
      "    }\n",
      "  }\n",
      "}\n"
     ]
    }
   ],
   "source": [
    "import urllib2\n",
    "import urllib\n",
    "values = {\n",
    "    'token': '1jkMvPoifu',\n",
    "    'action': 'data_value_by_date_name_geometry',\n",
    "    'name' : 'CLDAS-TEMP',\n",
    "    'date': '20170712_080000',\n",
    "    'geometry': '105.026,37.526'\n",
    "}\n",
    "args = urllib.urlencode(values)\n",
    "response = urllib2.urlopen('http://nature.data.aliyun.com/api?' + args)\n",
    "data = response.read()\n",
    "print data"
   ]
  },
  {
   "cell_type": "markdown",
   "metadata": {},
   "source": [
    "## 查询矩形区域数据API"
   ]
  },
  {
   "cell_type": "code",
   "execution_count": 22,
   "metadata": {
    "collapsed": true
   },
   "outputs": [
    {
     "name": "stdout",
     "output_type": "stream",
     "text": [
      "{\n",
      "  \"errors\": [\n",
      "    {\n",
      "      \"message\": \"Cannot query field \\\"undefined\\\" on type \\\"DataFileBlockExport\\\".\"\n",
      "    }\n",
      "  ]\n",
      "}\n"
     ]
    }
   ],
   "source": [
    "import urllib2\n",
    "import urllib\n",
    "values = {\n",
    " 'token': '1jkMvPoifu',\n",
    " 'action': ' data_export_by_date_name_geometry ',\n",
    " 'name' : 'CMPA-PREP',\n",
    " 'date': '20170712_080000',\n",
    " 'geometry': '80.026,35.026,105.026,20.426',\n",
    " 'format': 'tiff'\n",
    "}\n",
    "args = urllib.urlencode(values)\n",
    "response = urllib2.urlopen('http://nature.data.aliyun.com/api?' + args)\n",
    "data = response.read()\n",
    "print data "
   ]
  },
  {
   "cell_type": "markdown",
   "metadata": {
    "collapsed": true
   },
   "source": [
    "上述方法只能做天气预测，而不能查询特定时间的天气数据\n",
    "\n",
    "思路：\n",
    "\n",
    "1. 根据经纬度，定位到城市、县区，最终在[天气网](http://lishi.tianqi.com/)上查询该地点天气信息。\n",
    "2. [百度地图开放平台—车联网API](http://lbsyun.baidu.com/index.php?title=car)"
   ]
  },
  {
   "cell_type": "markdown",
   "metadata": {},
   "source": [
    "## 根据经纬度获取地址信息"
   ]
  },
  {
   "cell_type": "code",
   "execution_count": 97,
   "metadata": {
    "collapsed": false
   },
   "outputs": [],
   "source": [
    "import urllib\n",
    "import hashlib\n",
    "import json\n",
    "\n",
    "lng_lat = '39.983424,116.322987'\n",
    "def geocoding(lng_lat): \n",
    "    add = {}\n",
    "    ak = 'WtPdP20GRKi9Ord9o8bGmfMYRYK3pgMZ'\n",
    "    sk = 'G0GUQW7lx7bQBzw2wcGnPTVq8kCQkbNu'\n",
    "    queryStr = '/geocoder/v2/?location=' + lng_lat + '&output=json&ak=' + ak\n",
    "\n",
    "    # 对queryStr进行转码，safe内的保留字符不转换\n",
    "    encodedStr = urllib.quote(queryStr, safe=\"/:=&?#+!$,;'@()*[]\")\n",
    "    # 在最后直接追加上yoursk\n",
    "    rawStr = encodedStr + sk\n",
    "    sn = hashlib.md5(urllib.quote_plus(rawStr)).hexdigest()\n",
    "    url = 'http://api.map.baidu.com' + queryStr + '&sn=' + sn  # 最终提交的url\n",
    "    info_json = json.loads(urllib.urlopen(url).read())  # 解析返回的json格式数据\n",
    "\n",
    "    add['province'] = info_json['result']['addressComponent']['province']  # 省\n",
    "    add['city'] = info_json['result']['addressComponent']['city']  # 市\n",
    "    add['district'] = info_json['result']['addressComponent']['district']  # 区县\n",
    "    add['street'] = info_json['result']['addressComponent']['street']  # 街\n",
    "    \n",
    "    return add"
   ]
  },
  {
   "cell_type": "markdown",
   "metadata": {},
   "source": [
    "## 根据城市区县拼音获取天气"
   ]
  },
  {
   "cell_type": "code",
   "execution_count": 98,
   "metadata": {
    "collapsed": false
   },
   "outputs": [],
   "source": [
    "import requests\n",
    "from lxml import etree\n",
    "\n",
    "ymd = '20160811'\n",
    "address = 'shantou'\n",
    "def get_weather(address, ymd):\n",
    "    wea = {}\n",
    "    url  = 'http://' + address + '.tianqi.com/' + ymd + '.html'\n",
    "    html = requests.get(url).text\n",
    "    wea['day'] = etree.HTML(html).xpath('//*[@id=\"today\"]/ul/li[2]')[1].text  # 白天天气\n",
    "    wea['night'] = etree.HTML(html).xpath('//*[@id=\"today\"]/ul/li[2]')[2].text  # 夜间天气\n",
    "    wea['temp_high'] = etree.HTML(html).xpath('//*[@id=\"t_temp\"]/font[1]')[0].text  # 最高气温\n",
    "    wea['temp_low'] = etree.HTML(html).xpath('//*[@id=\"t_temp\"]/font[2]')[0].text  # 最低气温\n",
    "    wea['wind'] = etree.HTML(html).xpath('//*[@id=\"today\"]/ul/li[5]')[0].text  # 风向风速\n",
    "    return wea"
   ]
  },
  {
   "cell_type": "markdown",
   "metadata": {},
   "source": [
    "## 根据区县中文对应网站拼音格式"
   ]
  },
  {
   "cell_type": "code",
   "execution_count": 134,
   "metadata": {
    "collapsed": false
   },
   "outputs": [],
   "source": [
    "import os\n",
    "def get_city_dict():\n",
    "    if os.path.exists('city_dict.txt'):\n",
    "        with open('city_dict.txt', 'r') as fp:\n",
    "            city_dict = json.load(fp)\n",
    "    else:\n",
    "        city_dict = {}\n",
    "        url  = 'http://lishi.tianqi.com'\n",
    "        html = requests.get(url).text\n",
    "        chars = etree.HTML(html).xpath('//*[@id=\"tool_site\"]/div[2]/ul')  # 每个字母\n",
    "        for char in chars:\n",
    "            citys = char.xpath('li/a/text()')  # 提取区县名\n",
    "            pinyins = char.xpath('li/a/@href')  # 提取区县链接\n",
    "            num = len(citys)\n",
    "            assert len(pinyins) == num   \n",
    "            for i in range(1,num):\n",
    "                city_dict[citys[i]] = pinyins[i].split('/')[-2]  # 从区县链接中提取拼音\n",
    "        with open('city_dict.txt', 'w') as fp:\n",
    "            fp.write(json.dumps(city_dict))\n",
    "    return city_dict"
   ]
  },
  {
   "cell_type": "code",
   "execution_count": 216,
   "metadata": {
    "collapsed": false
   },
   "outputs": [
    {
     "name": "stdout",
     "output_type": "stream",
     "text": [
      "\n"
     ]
    }
   ],
   "source": [
    "city_dict = get_city_dict()\n",
    "citys = city_dict.keys()\n",
    "def get_wea_fin(lng=23.2859, lat=116.7266, date='20170701'):\n",
    "    lng_lat = str(lng) + ',' + str(lat)\n",
    "    address = geocoding(lng_lat)\n",
    "    province = address['province']  # 通过百度API提取的省名称\n",
    "    city = address['city']  # 市\n",
    "    district = address['district']  # 区县\n",
    "    weather = {}\n",
    "    if district in citys:\n",
    "        weather = get_weather(city_dict[district], str(date))\n",
    "    elif district[:-1] in citys:  # 天气网的部分区县没有以区县结尾，如，闵行区表示为闵行\n",
    "         weather = get_weather(city_dict[district[:-1]], str(date))\n",
    "    elif district == '' and city != '':  # 不存在区县信息，取城市信息\n",
    "        weather = get_weather(city_dict[city], str(date))\n",
    "    else:\n",
    "        print '对不起，无法查到您给的经纬度信息，请输入中国大陆范围内经纬度信息。'\n",
    "    return str(date), address, weather"
   ]
  },
  {
   "cell_type": "code",
   "execution_count": 223,
   "metadata": {
    "collapsed": false
   },
   "outputs": [
    {
     "name": "stdout",
     "output_type": "stream",
     "text": [
      "20141207 上海市 上海市 闵行区 莘凌路\n",
      "temp_low 10℃\n",
      "temp_high 3℃\n",
      "day 晴\n",
      "wind 西北风转北风3-4级\n",
      "night 多云\n"
     ]
    }
   ],
   "source": [
    "weather = get_wea_fin(31.1219830, 121.3743330, '20141207')\n",
    "print weather[0], weather[1]['province'], weather[1]['city'], weather[1]['district'], weather[1]['street']\n",
    "for k,v in weather[2].items():\n",
    "    print k,v"
   ]
  },
  {
   "cell_type": "code",
   "execution_count": null,
   "metadata": {
    "collapsed": true
   },
   "outputs": [],
   "source": []
  }
 ],
 "metadata": {
  "kernelspec": {
   "display_name": "Python 2",
   "language": "python",
   "name": "python2"
  },
  "language_info": {
   "codemirror_mode": {
    "name": "ipython",
    "version": 2
   },
   "file_extension": ".py",
   "mimetype": "text/x-python",
   "name": "python",
   "nbconvert_exporter": "python",
   "pygments_lexer": "ipython2",
   "version": "2.7.13"
  }
 },
 "nbformat": 4,
 "nbformat_minor": 2
}
