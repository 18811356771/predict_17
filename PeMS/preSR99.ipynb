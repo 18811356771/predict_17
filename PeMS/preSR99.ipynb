{
 "cells": [
  {
   "cell_type": "markdown",
   "metadata": {},
   "source": [
    "# SR99 VDS1005210 2016"
   ]
  },
  {
   "cell_type": "code",
   "execution_count": 1,
   "metadata": {
    "collapsed": true
   },
   "outputs": [],
   "source": [
    "import os\n",
    "import pandas as pd\n",
    "from tqdm import tqdm\n",
    "import matplotlib.pyplot as plt\n",
    "import numpy as np\n",
    "from datetime import timedelta"
   ]
  },
  {
   "cell_type": "code",
   "execution_count": 2,
   "metadata": {
    "collapsed": true
   },
   "outputs": [],
   "source": [
    "def excel2df(path, save_path):\n",
    "    \"\"\"将path下的所有excel文件合并成DataFrame，所有excel具有相同的表头\n",
    "    Args:\n",
    "        path: string, 文件夹路径\n",
    "        save_path: string, 保存路径\n",
    "    Returns:\n",
    "    \"\"\"\n",
    "    for parent, _, names in os.walk(path):\n",
    "        # 获取表头\n",
    "        columns = pd.read_excel(os.path.join(parent, names[0])).columns\n",
    "        df = pd.DataFrame(columns=columns)\n",
    "        for name in tqdm(names):\n",
    "            df_next = pd.read_excel(os.path.join(parent, name))\n",
    "            df = pd.concat([df, df_next], axis=0, ignore_index=True)\n",
    "        df.to_csv(save_path, header=True, index=None, sep=';', mode='w')\n",
    "    return 0"
   ]
  },
  {
   "cell_type": "code",
   "execution_count": 3,
   "metadata": {
    "collapsed": true
   },
   "outputs": [],
   "source": [
    "folder = './data/SR99'\n",
    "data_path = './data/SR99_VDS1005210_2016.csv'\n",
    "if not os.path.exists(data_path):\n",
    "    excel2df(folder, data_path)\n",
    "df = pd.read_csv(data_path, delimiter=';', parse_dates=['5 Minutes'])"
   ]
  },
  {
   "cell_type": "code",
   "execution_count": 20,
   "metadata": {},
   "outputs": [
    {
     "data": {
      "text/html": [
       "<div>\n",
       "<style>\n",
       "    .dataframe thead tr:only-child th {\n",
       "        text-align: right;\n",
       "    }\n",
       "\n",
       "    .dataframe thead th {\n",
       "        text-align: left;\n",
       "    }\n",
       "\n",
       "    .dataframe tbody tr th {\n",
       "        vertical-align: top;\n",
       "    }\n",
       "</style>\n",
       "<table border=\"1\" class=\"dataframe\">\n",
       "  <thead>\n",
       "    <tr style=\"text-align: right;\">\n",
       "      <th></th>\n",
       "      <th>5 Minutes</th>\n",
       "      <th>Lane 1 Flow (Veh/5 Minutes)</th>\n",
       "      <th>Lane 2 Flow (Veh/5 Minutes)</th>\n",
       "      <th>Lane 3 Flow (Veh/5 Minutes)</th>\n",
       "      <th>Flow (Veh/5 Minutes)</th>\n",
       "      <th># Lane Points</th>\n",
       "      <th>% Observed</th>\n",
       "    </tr>\n",
       "  </thead>\n",
       "  <tbody>\n",
       "    <tr>\n",
       "      <th>0</th>\n",
       "      <td>2016-01-01 00:00:00</td>\n",
       "      <td>5</td>\n",
       "      <td>14</td>\n",
       "      <td>9</td>\n",
       "      <td>28</td>\n",
       "      <td>3</td>\n",
       "      <td>100</td>\n",
       "    </tr>\n",
       "    <tr>\n",
       "      <th>1</th>\n",
       "      <td>2016-01-01 00:05:00</td>\n",
       "      <td>9</td>\n",
       "      <td>12</td>\n",
       "      <td>10</td>\n",
       "      <td>31</td>\n",
       "      <td>3</td>\n",
       "      <td>100</td>\n",
       "    </tr>\n",
       "    <tr>\n",
       "      <th>2</th>\n",
       "      <td>2016-01-01 00:10:00</td>\n",
       "      <td>9</td>\n",
       "      <td>17</td>\n",
       "      <td>8</td>\n",
       "      <td>34</td>\n",
       "      <td>3</td>\n",
       "      <td>100</td>\n",
       "    </tr>\n",
       "    <tr>\n",
       "      <th>3</th>\n",
       "      <td>2016-01-01 00:15:00</td>\n",
       "      <td>13</td>\n",
       "      <td>28</td>\n",
       "      <td>16</td>\n",
       "      <td>57</td>\n",
       "      <td>3</td>\n",
       "      <td>100</td>\n",
       "    </tr>\n",
       "    <tr>\n",
       "      <th>4</th>\n",
       "      <td>2016-01-01 00:20:00</td>\n",
       "      <td>20</td>\n",
       "      <td>42</td>\n",
       "      <td>14</td>\n",
       "      <td>76</td>\n",
       "      <td>3</td>\n",
       "      <td>100</td>\n",
       "    </tr>\n",
       "  </tbody>\n",
       "</table>\n",
       "</div>"
      ],
      "text/plain": [
       "            5 Minutes  Lane 1 Flow (Veh/5 Minutes)  \\\n",
       "0 2016-01-01 00:00:00                            5   \n",
       "1 2016-01-01 00:05:00                            9   \n",
       "2 2016-01-01 00:10:00                            9   \n",
       "3 2016-01-01 00:15:00                           13   \n",
       "4 2016-01-01 00:20:00                           20   \n",
       "\n",
       "   Lane 2 Flow (Veh/5 Minutes)  Lane 3 Flow (Veh/5 Minutes)  \\\n",
       "0                           14                            9   \n",
       "1                           12                           10   \n",
       "2                           17                            8   \n",
       "3                           28                           16   \n",
       "4                           42                           14   \n",
       "\n",
       "   Flow (Veh/5 Minutes)  # Lane Points  % Observed  \n",
       "0                    28              3         100  \n",
       "1                    31              3         100  \n",
       "2                    34              3         100  \n",
       "3                    57              3         100  \n",
       "4                    76              3         100  "
      ]
     },
     "execution_count": 20,
     "metadata": {},
     "output_type": "execute_result"
    }
   ],
   "source": [
    "df.head()"
   ]
  },
  {
   "cell_type": "markdown",
   "metadata": {},
   "source": [
    "## 数据查看"
   ]
  },
  {
   "cell_type": "code",
   "execution_count": 32,
   "metadata": {},
   "outputs": [
    {
     "data": {
      "image/png": "[encoded data removed]",
      "text/plain": [
       "<matplotlib.figure.Figure at 0x294fc382f60>"
      ]
     },
     "metadata": {},
     "output_type": "display_data"
    }
   ],
   "source": [
    "import matplotlib.pyplot as plt\n",
    "import numpy as np\n",
    "df['Flow (Veh/5 Minutes)'].hist(bins=100)\n",
    "plt.show()"
   ]
  },
  {
   "cell_type": "code",
   "execution_count": 9,
   "metadata": {},
   "outputs": [
    {
     "data": {
      "text/plain": [
       "5 Minutes                      106836\n",
       "Lane 1 Flow (Veh/5 Minutes)    106836\n",
       "Lane 2 Flow (Veh/5 Minutes)    106836\n",
       "Lane 3 Flow (Veh/5 Minutes)    106836\n",
       "Flow (Veh/5 Minutes)           106836\n",
       "# Lane Points                  106836\n",
       "% Observed                     106836\n",
       "dtype: int64"
      ]
     },
     "execution_count": 9,
     "metadata": {},
     "output_type": "execute_result"
    }
   ],
   "source": [
    "df.count()"
   ]
  },
  {
   "cell_type": "code",
   "execution_count": 12,
   "metadata": {},
   "outputs": [
    {
     "data": {
      "text/plain": [
       "array(['2016-03-13T02:00:00.000000000', '2016-03-13T02:05:00.000000000',\n",
       "       '2016-03-13T02:10:00.000000000', '2016-03-13T02:15:00.000000000',\n",
       "       '2016-03-13T02:20:00.000000000', '2016-03-13T02:25:00.000000000',\n",
       "       '2016-03-13T02:30:00.000000000', '2016-03-13T02:35:00.000000000',\n",
       "       '2016-03-13T02:40:00.000000000', '2016-03-13T02:45:00.000000000',\n",
       "       '2016-03-13T02:50:00.000000000', '2016-03-13T02:55:00.000000000'], dtype='datetime64[ns]')"
      ]
     },
     "execution_count": 12,
     "metadata": {},
     "output_type": "execute_result"
    }
   ],
   "source": [
    "# 2013年3月13日 2:00-3:00数据缺失，用历史值进行填充\n",
    "df = pd.read_csv(data_path, delimiter=';', parse_dates=['5 Minutes'])\n",
    "date_range = pd.date_range('2016-01-01 00:00:00', '2017-01-05 23:59:00', freq='5min')\n",
    "np.setxor1d(date_range.values, df['5 Minutes'].unique())"
   ]
  },
  {
   "cell_type": "code",
   "execution_count": 13,
   "metadata": {
    "collapsed": true
   },
   "outputs": [],
   "source": [
    "df = df.set_index('5 Minutes').reindex(date_range).reset_index()  # 缺失数据填充为NAN\n",
    "df = df.rename(columns={'index': '5 Minutes'})"
   ]
  },
  {
   "cell_type": "code",
   "execution_count": 14,
   "metadata": {
    "collapsed": true
   },
   "outputs": [],
   "source": [
    "df['weekday'] = df['5 Minutes'].map(lambda x: x.weekday())\n",
    "df['time'] = df['5 Minutes'].map(lambda x: '%02d%02d' % (x.hour, x.minute))\n",
    "# 同一时间片，周一到周日均值\n",
    "df_day_mean = df.groupby(['weekday', 'time'])['Flow (Veh/5 Minutes)'].mean().reset_index()\n",
    "df_day_mean = df_day_mean.rename(columns={'Flow (Veh/5 Minutes)': 'flow_mean'})\n",
    "df = pd.merge(df, df_day_mean, on=['weekday', 'time'], how='left')\n",
    "df_nan = df.loc[df['Flow (Veh/5 Minutes)'].isnull()]  # 缺失数据段\n",
    "# 使用'flow_mean'列对'Flow (Veh/5 Minutes)'列进行缺失值填充\n",
    "df['Flow (Veh/5 Minutes)'] = df['Flow (Veh/5 Minutes)'].fillna(df['flow_mean'])"
   ]
  },
  {
   "cell_type": "code",
   "execution_count": 7,
   "metadata": {
    "collapsed": true
   },
   "outputs": [],
   "source": [
    "# save\n",
    "df = df.rename(columns={'5 Minutes': 'datetime', 'Flow (Veh/5 Minutes)': 'flow@5'})\n",
    "df[['datetime', 'weekday', 'time', 'flow5', 'flow_mean']].to_csv(\n",
    "    './data/SR99_VDS1005210_2016_fill.csv', header=True, index=None, sep=';', mode='w')"
   ]
  },
  {
   "cell_type": "code",
   "execution_count": 8,
   "metadata": {},
   "outputs": [
    {
     "data": {
      "image/png": "[encoded data removed]",
      "text/plain": [
       "<matplotlib.figure.Figure at 0x2113698cfd0>"
      ]
     },
     "metadata": {},
     "output_type": "display_data"
    }
   ],
   "source": [
    "tmp = df.loc[(df['datetime'].dt.month == 3) & (df['datetime'].dt.day == 13), :]\n",
    "tmp['flow5'].plot()\n",
    "df_nan['flow_mean'].plot()\n",
    "plt.show()"
   ]
  },
  {
   "cell_type": "markdown",
   "metadata": {},
   "source": [
    "## Naive 预测\n",
    "- 在十一、十二月上进行测试"
   ]
  },
  {
   "cell_type": "markdown",
   "metadata": {},
   "source": [
    "### RW"
   ]
  },
  {
   "cell_type": "code",
   "execution_count": 3,
   "metadata": {
    "collapsed": true
   },
   "outputs": [],
   "source": [
    "df = pd.read_csv('./data/SR99_VDS1005210_2016_fill.csv', delimiter=';', parse_dates=True, index_col='datetime')"
   ]
  },
  {
   "cell_type": "code",
   "execution_count": 20,
   "metadata": {
    "collapsed": true
   },
   "outputs": [],
   "source": [
    "def mae(y_true, y_predict):\n",
    "    # Mean Absolute Error\n",
    "    assert len(y_true) == len(y_predict)\n",
    "    return np.mean(np.abs(y_true - y_predict))\n",
    "\n",
    "\n",
    "def mape(y_true, y_predict):\n",
    "    # Mean Relative Error\n",
    "    assert len(y_true) == len(y_predict)\n",
    "    return np.mean(np.abs(y_true - y_predict)/y_true) * 100\n",
    "\n",
    "\n",
    "def mse(y_true, y_predict):\n",
    "    # Mean Square Error\n",
    "    assert len(y_true) == len(y_predict)\n",
    "    return np.square(np.mean((y_true - y_predict) ** 2))\n",
    "\n",
    "\n",
    "def rmse(y_true, y_predict):\n",
    "    # Root Mean Square Error\n",
    "    assert len(y_true) == len(y_predict)\n",
    "    return np.mean((y_true - y_predict) ** 2)\n",
    "\n",
    "def print_error(y_true, y_predict):\n",
    "    print('MSE: %.3f' % mse(y_true, y_predict))\n",
    "    print('RMSE: %.3f' % rmse(y_true, y_predict))\n",
    "    print('MAE: %.3f' % mae(y_true, y_predict))\n",
    "    print('MAPE: %.3f%%' % mape(y_true, y_predict))"
   ]
  },
  {
   "cell_type": "code",
   "execution_count": 11,
   "metadata": {},
   "outputs": [
    {
     "name": "stdout",
     "output_type": "stream",
     "text": [
      "MAE: 21.011\n",
      "MAPE: 10.936%\n",
      "MSE: 646056.337\n",
      "RMSE: 803.776\n"
     ]
    }
   ],
   "source": [
    "expect = df['2016-11':'2016-12'].values.flatten()\n",
    "predict = df.shift(-1)['2016-11':'2016-12'].values.flatten()\n",
    "print('MAE: %.3f' % mae(expect, predict))\n",
    "print('MAPE: %.3f%%' % mape(expect, predict))\n",
    "print('MSE: %.3f' % mse(expect, predict))\n",
    "print('RMSE: %.3f' % rmse(expect, predict))"
   ]
  },
  {
   "cell_type": "markdown",
   "metadata": {},
   "source": [
    "### HA"
   ]
  },
  {
   "cell_type": "code",
   "execution_count": 176,
   "metadata": {
    "collapsed": true
   },
   "outputs": [],
   "source": [
    "df['weekday'] = df.index.weekday\n",
    "df['time'] = df.index.map(lambda x: '%02d%02d' % (x.hour, x.minute))\n",
    "df_week_mean = df.groupby(['weekday', 'time'])['flow_5'].mean().reset_index()\n",
    "df_week_mean = df_week_mean.rename(columns={'flow_5': 'flow@mean'})\n",
    "df = pd.merge(df.reset_index(), df_week_mean, on=['weekday', 'time'], how='left')\n",
    "df = df.set_index('datetime')"
   ]
  },
  {
   "cell_type": "code",
   "execution_count": 177,
   "metadata": {},
   "outputs": [
    {
     "name": "stdout",
     "output_type": "stream",
     "text": [
      "MAE: 24.684\n",
      "MAPE: 13.701%\n",
      "MSE: 1968848.230\n",
      "RMSE: 1403.157\n"
     ]
    }
   ],
   "source": [
    "expect = df['2016-11':'2016-12']['flow_5'].values.flatten()\n",
    "predict = df['2016-11':'2016-12']['flow@mean'].values.flatten()\n",
    "print('MAE: %.3f' % mae(expect, predict))\n",
    "print('MAPE: %.3f%%' % mape(expect, predict))\n",
    "print('MSE: %.3f' % mse(expect, predict))\n",
    "print('RMSE: %.3f' % rmse(expect, predict))"
   ]
  },
  {
   "cell_type": "markdown",
   "metadata": {},
   "source": [
    "### EXPRW"
   ]
  },
  {
   "cell_type": "code",
   "execution_count": 285,
   "metadata": {
    "collapsed": true
   },
   "outputs": [],
   "source": [
    "df['flow@ha'] = 0\n",
    "df.loc[: '2016-01-07', 'flow@ha'] = df[: '2016-01-07']['flow@mean']\n",
    "\n",
    "flow_ha = df['flow@ha'].values  # flow_ha是df['flow@ha']的视图\n",
    "backout = sum(flow_ha != 0)  # 2016\n",
    "flow_5 = df['flow_5'].values\n",
    "flow_mean = df['flow@mean'].values\n",
    "\n",
    "alpha = 0.2\n",
    "lenght = len(flow_ha)\n",
    "for x in range(backout, lenght):\n",
    "    flow_ha[x] = alpha * flow_5[x-backout] + (1-alpha) * flow_ha[x-backout]\n",
    "    \n",
    "# df['flow@ha'] = flow_ha"
   ]
  },
  {
   "cell_type": "code",
   "execution_count": 286,
   "metadata": {},
   "outputs": [
    {
     "name": "stdout",
     "output_type": "stream",
     "text": [
      "MAE: 25.504\n",
      "MAPE: 14.328%\n",
      "MSE: 2327535.861\n",
      "RMSE: 1525.626\n"
     ]
    }
   ],
   "source": [
    "expect = df['2016-11':'2016-12']['flow_5'].values.flatten()\n",
    "predict = df['2016-11':'2016-12']['flow@ha'].values.flatten()\n",
    "print('MAE: %.3f' % mae(expect, predict))\n",
    "print('MAPE: %.3f%%' % mape(expect, predict))\n",
    "print('MSE: %.3f' % mse(expect, predict))\n",
    "print('RMSE: %.3f' % rmse(expect, predict))"
   ]
  },
  {
   "cell_type": "markdown",
   "metadata": {},
   "source": [
    "### DHA"
   ]
  },
  {
   "cell_type": "code",
   "execution_count": 314,
   "metadata": {
    "collapsed": true
   },
   "outputs": [],
   "source": [
    "df['flow@dha'] = 0\n",
    "df.loc[: '2016-01-07', 'flow@dha'] = df[: '2016-01-07']['flow@mean']\n",
    "\n",
    "s = df['flow@dha'].copy().values  # 深拷贝\n",
    "flow_dha = df['flow@dha'].values  # 浅拷贝\n",
    "backout = sum(s != 0)  # 2016\n",
    "flow_5 = df['flow_5'].values\n",
    "\n",
    "alpha = 0.2\n",
    "lenght = len(s)\n",
    "\n",
    "for x in range(backout, lenght-1):\n",
    "    s[x] = alpha * flow_5[x] + (1-alpha) * s[x-backout]\n",
    "    flow_dha[x+1] = flow_5[x] * s[x-backout+1] / s[x]\n",
    "\n",
    "# df['flow@dha'] = flow_dha"
   ]
  },
  {
   "cell_type": "code",
   "execution_count": 315,
   "metadata": {},
   "outputs": [
    {
     "name": "stdout",
     "output_type": "stream",
     "text": [
      "MAE: 20.071\n",
      "MAPE: 10.469%\n",
      "MSE: 534095.271\n",
      "RMSE: 730.818\n"
     ]
    }
   ],
   "source": [
    "expect = df['2016-11':'2016-12']['flow_5'].values.flatten()\n",
    "predict = df['2016-11':'2016-12']['flow@dha'].values.flatten()\n",
    "print('MAE: %.3f' % mae(expect, predict))\n",
    "print('MAPE: %.3f%%' % mape(expect, predict))\n",
    "print('MSE: %.3f' % mse(expect, predict))\n",
    "print('RMSE: %.3f' % rmse(expect, predict))"
   ]
  },
  {
   "cell_type": "code",
   "execution_count": 18,
   "metadata": {
    "collapsed": true
   },
   "outputs": [],
   "source": [
    "def rw(df):\n",
    "    # Random Walk\n",
    "    # 十一、十二月为测试集\n",
    "    expect = df['2016-11': '2016-12'].values.flatten()\n",
    "    predict = df.shift(-1)['2016-11': '2016-12'].values.flatten()\n",
    "    print('\\nRandom Walk:')\n",
    "    print_error(expect, predict)\n",
    "    return 0\n",
    "\n",
    "\n",
    "def ha(df, alpha1=0.2, alpha2=0.2):\n",
    "    # Historical Average\n",
    "    df['weekday'] = df.index.weekday\n",
    "    df['time'] = df.index.map(lambda x: '%02d%02d' % (x.hour, x.minute))\n",
    "    df_week_mean = df.groupby(['weekday', 'time'])['flow'].mean().reset_index()\n",
    "    df_week_mean = df_week_mean.rename(columns={'flow': 'flow@mean'})\n",
    "    df = pd.merge(df.reset_index(), df_week_mean, on=['weekday', 'time'], how='left')\n",
    "    df = df.set_index('datetime')\n",
    "\n",
    "    # Naive HA\n",
    "    expect = df['2016-11': '2016-12']['flow'].values.flatten()\n",
    "    predict_ha = df['2016-11': '2016-12']['flow@mean'].values.flatten()\n",
    "    print('\\nHistorical Average:')\n",
    "    print_error(expect, predict_ha)\n",
    "\n",
    "    # EXPRW & Deviation from HA\n",
    "    df['flow@ha'] = 0\n",
    "    df['flow@dha'] = 0\n",
    "    df.loc[: '2016-01-07', 'flow@dha'] = df[: '2016-01-07']['flow@mean']\n",
    "    df.loc[: '2016-01-07', 'flow@ha'] = df[: '2016-01-07']['flow@mean']  # 第一周数据用历史平均值填充\n",
    "    flow_ha = df['flow@ha'].values  # 视图\n",
    "    s = df['flow@dha'].copy().values  # 深拷贝\n",
    "    flow_dha = df['flow@dha'].values  # 浅拷贝\n",
    "    backout = sum(flow_ha != 0)  # 回到上周的同一时间点\n",
    "    flow = df['flow'].values\n",
    "    length = len(flow)\n",
    "\n",
    "    for x in range(backout, length-1):\n",
    "        flow_ha[x] = alpha1 * flow[x-backout] + (1-alpha1) * flow_ha[x-backout]  # EXPRW\n",
    "        s[x] = alpha2 * flow[x] + (1 - alpha2) * s[x-backout]\n",
    "        flow_dha[x+1] = flow[x] * s[x-backout + 1] / s[x]  # Deviation from HA\n",
    "\n",
    "    predict_exprw = df['2016-11': '2016-12']['flow@ha'].values.flatten()\n",
    "    predict_dha = df['2016-11':'2016-12']['flow@dha'].values.flatten()\n",
    "    print('\\nEXPRW:')\n",
    "    print_error(expect, predict_exprw)\n",
    "    print('\\nDHA:')\n",
    "    print_error(expect, predict_dha)\n",
    "    return 0"
   ]
  },
  {
   "cell_type": "code",
   "execution_count": 45,
   "metadata": {},
   "outputs": [
    {
     "name": "stdout",
     "output_type": "stream",
     "text": [
      "\n",
      "Random Walk:\n",
      "MSE: 646056.337\n",
      "RMSE: 803.776\n",
      "MAE: 21.011\n",
      "MAPE: 10.936%\n"
     ]
    },
    {
     "data": {
      "text/plain": [
       "0"
      ]
     },
     "execution_count": 45,
     "metadata": {},
     "output_type": "execute_result"
    }
   ],
   "source": [
    "rw(df)"
   ]
  },
  {
   "cell_type": "code",
   "execution_count": 46,
   "metadata": {},
   "outputs": [
    {
     "name": "stdout",
     "output_type": "stream",
     "text": [
      "\n",
      "Historical Average:\n",
      "MSE: 1968848.230\n",
      "RMSE: 1403.157\n",
      "MAE: 24.684\n",
      "MAPE: 13.701%\n",
      "\n",
      "EXPRW:\n",
      "MSE: 2327535.861\n",
      "RMSE: 1525.626\n",
      "MAE: 25.504\n",
      "MAPE: 14.328%\n",
      "\n",
      "DHA:\n",
      "MSE: 534095.271\n",
      "RMSE: 730.818\n",
      "MAE: 20.071\n",
      "MAPE: 10.469%\n"
     ]
    },
    {
     "data": {
      "text/plain": [
       "0"
      ]
     },
     "execution_count": 46,
     "metadata": {},
     "output_type": "execute_result"
    }
   ],
   "source": [
    "ha(df)"
   ]
  },
  {
   "cell_type": "code",
   "execution_count": 50,
   "metadata": {},
   "outputs": [
    {
     "name": "stdout",
     "output_type": "stream",
     "text": [
      "\n",
      "Historical Average:\n",
      "MSE: 1968848.230\n",
      "RMSE: 1403.157\n",
      "MAE: 24.684\n",
      "MAPE: 13.701%\n",
      "\n",
      "EXPRW:\n",
      "MSE: 1968848.230\n",
      "RMSE: 1403.157\n",
      "MAE: 24.684\n",
      "MAPE: 13.701%\n",
      "\n",
      "DHA:\n",
      "MSE: 576433.524\n",
      "RMSE: 759.232\n",
      "MAE: 20.375\n",
      "MAPE: 10.581%\n"
     ]
    },
    {
     "data": {
      "text/plain": [
       "0"
      ]
     },
     "execution_count": 50,
     "metadata": {},
     "output_type": "execute_result"
    }
   ],
   "source": [
    "ha(df, 0, 0)"
   ]
  },
  {
   "cell_type": "markdown",
   "metadata": {},
   "source": [
    "## 聚集成15min，30min，45min，60min"
   ]
  },
  {
   "cell_type": "code",
   "execution_count": 13,
   "metadata": {
    "collapsed": true
   },
   "outputs": [],
   "source": [
    "df = pd.read_csv('./data/SR99_VDS1005210_2016_fill.csv', delimiter=';', parse_dates=True, index_col='datetime')\n",
    "df = df.rename(columns={'flow_5': 'flow'})"
   ]
  },
  {
   "cell_type": "code",
   "execution_count": 16,
   "metadata": {},
   "outputs": [
    {
     "data": {
      "text/html": [
       "<div>\n",
       "<style>\n",
       "    .dataframe thead tr:only-child th {\n",
       "        text-align: right;\n",
       "    }\n",
       "\n",
       "    .dataframe thead th {\n",
       "        text-align: left;\n",
       "    }\n",
       "\n",
       "    .dataframe tbody tr th {\n",
       "        vertical-align: top;\n",
       "    }\n",
       "</style>\n",
       "<table border=\"1\" class=\"dataframe\">\n",
       "  <thead>\n",
       "    <tr style=\"text-align: right;\">\n",
       "      <th></th>\n",
       "      <th>flow</th>\n",
       "    </tr>\n",
       "    <tr>\n",
       "      <th>datetime</th>\n",
       "      <th></th>\n",
       "    </tr>\n",
       "  </thead>\n",
       "  <tbody>\n",
       "    <tr>\n",
       "      <th>2016-01-01 00:00:00</th>\n",
       "      <td>28.0</td>\n",
       "    </tr>\n",
       "    <tr>\n",
       "      <th>2016-01-01 00:05:00</th>\n",
       "      <td>31.0</td>\n",
       "    </tr>\n",
       "    <tr>\n",
       "      <th>2016-01-01 00:10:00</th>\n",
       "      <td>34.0</td>\n",
       "    </tr>\n",
       "    <tr>\n",
       "      <th>2016-01-01 00:15:00</th>\n",
       "      <td>57.0</td>\n",
       "    </tr>\n",
       "    <tr>\n",
       "      <th>2016-01-01 00:20:00</th>\n",
       "      <td>76.0</td>\n",
       "    </tr>\n",
       "  </tbody>\n",
       "</table>\n",
       "</div>"
      ],
      "text/plain": [
       "                     flow\n",
       "datetime                 \n",
       "2016-01-01 00:00:00  28.0\n",
       "2016-01-01 00:05:00  31.0\n",
       "2016-01-01 00:10:00  34.0\n",
       "2016-01-01 00:15:00  57.0\n",
       "2016-01-01 00:20:00  76.0"
      ]
     },
     "execution_count": 16,
     "metadata": {},
     "output_type": "execute_result"
    }
   ],
   "source": [
    "df.head()"
   ]
  },
  {
   "cell_type": "code",
   "execution_count": 17,
   "metadata": {
    "collapsed": true
   },
   "outputs": [],
   "source": [
    "df_15 = df.resample('15min', closed='right', label='right').sum()"
   ]
  },
  {
   "cell_type": "code",
   "execution_count": 21,
   "metadata": {},
   "outputs": [
    {
     "name": "stdout",
     "output_type": "stream",
     "text": [
      "\n",
      "Random Walk:\n",
      "MSE: 29827607.333\n",
      "RMSE: 5461.466\n",
      "MAE: 52.497\n",
      "MAPE: 9.133%\n"
     ]
    },
    {
     "data": {
      "text/plain": [
       "0"
      ]
     },
     "execution_count": 21,
     "metadata": {},
     "output_type": "execute_result"
    }
   ],
   "source": [
    "rw(df_15)"
   ]
  },
  {
   "cell_type": "code",
   "execution_count": 22,
   "metadata": {},
   "outputs": [
    {
     "name": "stdout",
     "output_type": "stream",
     "text": [
      "\n",
      "Historical Average:\n",
      "MSE: 106617278.031\n",
      "RMSE: 10325.564\n",
      "MAE: 62.756\n",
      "MAPE: 11.502%\n",
      "\n",
      "EXPRW:\n",
      "MSE: 124063319.647\n",
      "RMSE: 11138.371\n",
      "MAE: 63.858\n",
      "MAPE: 11.881%\n",
      "\n",
      "DHA:\n",
      "MSE: 10847121.905\n",
      "RMSE: 3293.497\n",
      "MAE: 39.639\n",
      "MAPE: 6.709%\n"
     ]
    },
    {
     "data": {
      "text/plain": [
       "0"
      ]
     },
     "execution_count": 22,
     "metadata": {},
     "output_type": "execute_result"
    }
   ],
   "source": [
    "ha(df_15)"
   ]
  },
  {
   "cell_type": "code",
   "execution_count": 23,
   "metadata": {
    "collapsed": true
   },
   "outputs": [],
   "source": [
    "df_30 = df.resample('30min', closed='right', label='right').sum()"
   ]
  },
  {
   "cell_type": "code",
   "execution_count": 25,
   "metadata": {},
   "outputs": [
    {
     "name": "stdout",
     "output_type": "stream",
     "text": [
      "\n",
      "Random Walk:\n",
      "MSE: 996929618.224\n",
      "RMSE: 31574.192\n",
      "MAE: 128.196\n",
      "MAPE: 11.876%\n"
     ]
    },
    {
     "data": {
      "text/plain": [
       "0"
      ]
     },
     "execution_count": 25,
     "metadata": {},
     "output_type": "execute_result"
    }
   ],
   "source": [
    "rw(df_30)"
   ]
  },
  {
   "cell_type": "code",
   "execution_count": 26,
   "metadata": {},
   "outputs": [
    {
     "name": "stdout",
     "output_type": "stream",
     "text": [
      "\n",
      "Historical Average:\n",
      "MSE: 1443952391.082\n",
      "RMSE: 37999.374\n",
      "MAE: 117.097\n",
      "MAPE: 10.715%\n",
      "\n",
      "EXPRW:\n",
      "MSE: 1673201103.692\n",
      "RMSE: 40904.781\n",
      "MAE: 118.384\n",
      "MAPE: 11.012%\n",
      "\n",
      "DHA:\n",
      "MSE: 151217579.806\n",
      "RMSE: 12297.056\n",
      "MAE: 70.731\n",
      "MAPE: 5.819%\n"
     ]
    },
    {
     "data": {
      "text/plain": [
       "0"
      ]
     },
     "execution_count": 26,
     "metadata": {},
     "output_type": "execute_result"
    }
   ],
   "source": [
    "ha(df_30)"
   ]
  },
  {
   "cell_type": "code",
   "execution_count": 30,
   "metadata": {
    "collapsed": true
   },
   "outputs": [],
   "source": [
    "df_45 = df.resample('45min', closed='right', label='right').sum()"
   ]
  },
  {
   "cell_type": "code",
   "execution_count": 31,
   "metadata": {},
   "outputs": [
    {
     "name": "stdout",
     "output_type": "stream",
     "text": [
      "\n",
      "Random Walk:\n",
      "MSE: 12340497760.895\n",
      "RMSE: 111087.793\n",
      "MAE: 246.894\n",
      "MAPE: 16.289%\n"
     ]
    },
    {
     "data": {
      "text/plain": [
       "0"
      ]
     },
     "execution_count": 31,
     "metadata": {},
     "output_type": "execute_result"
    }
   ],
   "source": [
    "rw(df_45)"
   ]
  },
  {
   "cell_type": "code",
   "execution_count": 32,
   "metadata": {},
   "outputs": [
    {
     "name": "stdout",
     "output_type": "stream",
     "text": [
      "\n",
      "Historical Average:\n",
      "MSE: 6496835379.809\n",
      "RMSE: 80602.949\n",
      "MAE: 168.574\n",
      "MAPE: 10.326%\n",
      "\n",
      "EXPRW:\n",
      "MSE: 7528572572.885\n",
      "RMSE: 86767.347\n",
      "MAE: 169.606\n",
      "MAPE: 10.575%\n",
      "\n",
      "DHA:\n",
      "MSE: 696270668.353\n",
      "RMSE: 26386.941\n",
      "MAE: 101.412\n",
      "MAPE: 5.678%\n"
     ]
    },
    {
     "data": {
      "text/plain": [
       "0"
      ]
     },
     "execution_count": 32,
     "metadata": {},
     "output_type": "execute_result"
    }
   ],
   "source": [
    "ha(df_45)"
   ]
  },
  {
   "cell_type": "code",
   "execution_count": 33,
   "metadata": {
    "collapsed": true
   },
   "outputs": [],
   "source": [
    "df_60 = df.resample('60min', closed='right', label='right').sum()"
   ]
  },
  {
   "cell_type": "code",
   "execution_count": 34,
   "metadata": {},
   "outputs": [
    {
     "name": "stdout",
     "output_type": "stream",
     "text": [
      "\n",
      "Random Walk:\n",
      "MSE: 88020121983.817\n",
      "RMSE: 296681.853\n",
      "MAE: 415.935\n",
      "MAPE: 21.145%\n"
     ]
    },
    {
     "data": {
      "text/plain": [
       "0"
      ]
     },
     "execution_count": 34,
     "metadata": {},
     "output_type": "execute_result"
    }
   ],
   "source": [
    "rw(df_60)"
   ]
  },
  {
   "cell_type": "code",
   "execution_count": 35,
   "metadata": {},
   "outputs": [
    {
     "name": "stdout",
     "output_type": "stream",
     "text": [
      "\n",
      "Historical Average:\n",
      "MSE: 19069400557.122\n",
      "RMSE: 138092.000\n",
      "MAE: 219.128\n",
      "MAPE: 10.043%\n",
      "\n",
      "EXPRW:\n",
      "MSE: 22042395954.827\n",
      "RMSE: 148466.818\n",
      "MAE: 220.453\n",
      "MAPE: 10.300%\n",
      "\n",
      "DHA:\n",
      "MSE: 2340815597.351\n",
      "RMSE: 48381.976\n",
      "MAE: 138.454\n",
      "MAPE: 5.783%\n"
     ]
    },
    {
     "data": {
      "text/plain": [
       "0"
      ]
     },
     "execution_count": 35,
     "metadata": {},
     "output_type": "execute_result"
    }
   ],
   "source": [
    "ha(df_60)"
   ]
  },
  {
   "cell_type": "code",
   "execution_count": null,
   "metadata": {
    "collapsed": true
   },
   "outputs": [],
   "source": []
  }
 ],
 "metadata": {
  "kernelspec": {
   "display_name": "Python 2",
   "language": "python",
   "name": "python2"
  },
  "language_info": {
   "codemirror_mode": {
    "name": "ipython",
    "version": 2
   },
   "file_extension": ".py",
   "mimetype": "text/x-python",
   "name": "python",
   "nbconvert_exporter": "python",
   "pygments_lexer": "ipython2",
   "version": "2.7.13"
  }
 },
 "nbformat": 4,
 "nbformat_minor": 2
}
