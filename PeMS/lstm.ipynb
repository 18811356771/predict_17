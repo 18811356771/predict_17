{
 "cells": [
  {
   "cell_type": "code",
   "execution_count": 144,
   "metadata": {},
   "outputs": [
    {
     "name": "stderr",
     "output_type": "stream",
     "text": [
      "Using TensorFlow backend.\n"
     ]
    }
   ],
   "source": [
    "import numpy as np\n",
    "import pandas as pd\n",
    "import matplotlib.pyplot as plt\n",
    "\n",
    "from sklearn.preprocessing import StandardScaler\n",
    "\n",
    "from keras.layers.recurrent import LSTM\n",
    "from keras.models import Sequential\n",
    "from keras.layers.core import Dense, Activation, Dropout"
   ]
  },
  {
   "cell_type": "code",
   "execution_count": 64,
   "metadata": {
    "collapsed": true
   },
   "outputs": [],
   "source": [
    "df = pd.read_csv('./data/SR99_VDS1005210_2016_fill.csv', delimiter=';', parse_dates=True, index_col='datetime')"
   ]
  },
  {
   "cell_type": "code",
   "execution_count": 152,
   "metadata": {
    "collapsed": true
   },
   "outputs": [],
   "source": [
    "train = df[: '2016-10'].copy()\n",
    "test = df['2016-11':].copy()\n",
    "scaler = StandardScaler()\n",
    "train['flow_scaler'] = scaler.fit_transform(train['flow_5'].values[:, np.newaxis])"
   ]
  },
  {
   "cell_type": "code",
   "execution_count": 137,
   "metadata": {
    "collapsed": true
   },
   "outputs": [],
   "source": [
    "def series2supervised(data, time_steps=20, size=(1, 2)):\n",
    "    assert isinstance(size[0], int) & isinstance(size[1], int), 'size[0] size[1] must be integer'\n",
    "    assert size[0] <= size[1], 'size[1] not less than size[0]'\n",
    "    start = '2016-0%d' % size[0]\n",
    "    end = '2016-0%d' % size[1]\n",
    "    value = data[start: end].copy().values\n",
    "    result = []\n",
    "    for index in range(len(value) - time_steps):\n",
    "        result.append(value[index: index+time_steps+1])\n",
    "    result = np.array(result)\n",
    "    x = result[:, :-1]\n",
    "    y = result[:, -1]\n",
    "    x = np.reshape(x, (x.shape[0], x.shape[1], 1))\n",
    "    return x, y"
   ]
  },
  {
   "cell_type": "code",
   "execution_count": 141,
   "metadata": {
    "collapsed": true
   },
   "outputs": [],
   "source": [
    "x_train, y_train = series2supervised(train['flow_scaler'], time_steps=20, size=(1, 2))\n",
    "x_valid, y_valid = series2supervised(train['flow_scaler'], time_steps=20, size=(3, 4))"
   ]
  },
  {
   "cell_type": "code",
   "execution_count": 142,
   "metadata": {
    "collapsed": true
   },
   "outputs": [],
   "source": [
    "interval = 5\n",
    "time_steps = 20\n",
    "batch_size = int(60/interval * 24 * 7)  # 每批处理一周数据"
   ]
  },
  {
   "cell_type": "code",
   "execution_count": 150,
   "metadata": {},
   "outputs": [
    {
     "name": "stdout",
     "output_type": "stream",
     "text": [
      "Train on 17260 samples, validate on 17548 samples\n",
      "Epoch 1/5\n",
      "3s - loss: 0.8274 - val_loss: 0.7280\n",
      "Epoch 2/5\n",
      "3s - loss: 0.6059 - val_loss: 0.4802\n",
      "Epoch 3/5\n",
      "3s - loss: 0.3476 - val_loss: 0.2791\n",
      "Epoch 4/5\n",
      "3s - loss: 0.2548 - val_loss: 0.2330\n",
      "Epoch 5/5\n",
      "3s - loss: 0.2284 - val_loss: 0.2302\n"
     ]
    },
    {
     "data": {
      "text/plain": [
       "<keras.callbacks.History at 0x2ac7050e3c8>"
      ]
     },
     "execution_count": 150,
     "metadata": {},
     "output_type": "execute_result"
    }
   ],
   "source": [
    "model = Sequential()\n",
    "model.add(LSTM(32, input_shape=(x_train.shape[1], x_train.shape[2])))\n",
    "model.add(Dense(1, activation='linear'))\n",
    "model.compile(loss='mae', optimizer='adam')\n",
    "model.fit(x_train, y_train, validation_data=(x_valid, y_valid), epochs=5, batch_size=batch_size, verbose=2)"
   ]
  },
  {
   "cell_type": "code",
   "execution_count": 153,
   "metadata": {
    "collapsed": true
   },
   "outputs": [],
   "source": [
    "test['flow_scaler'] = scaler.transform(test['flow_5'].values[:, np.newaxis])"
   ]
  },
  {
   "cell_type": "code",
   "execution_count": 154,
   "metadata": {
    "collapsed": true
   },
   "outputs": [],
   "source": [
    "x_test, y_test = series2supervised(test['flow_scaler'], time_steps=20, size=(11, 12))"
   ]
  },
  {
   "cell_type": "code",
   "execution_count": 155,
   "metadata": {
    "collapsed": true
   },
   "outputs": [],
   "source": [
    "predicted = model.predict(x_test)"
   ]
  },
  {
   "cell_type": "code",
   "execution_count": 156,
   "metadata": {},
   "outputs": [
    {
     "data": {
      "text/plain": [
       "array([[-1.45806825],\n",
       "       [-1.45800209],\n",
       "       [-1.45288444],\n",
       "       ..., \n",
       "       [-1.34100986],\n",
       "       [-1.3519634 ],\n",
       "       [-1.36561632]], dtype=float32)"
      ]
     },
     "execution_count": 156,
     "metadata": {},
     "output_type": "execute_result"
    }
   ],
   "source": [
    "predicted"
   ]
  },
  {
   "cell_type": "code",
   "execution_count": 157,
   "metadata": {},
   "outputs": [
    {
     "data": {
      "text/plain": [
       "array([[ 59.93305969],\n",
       "       [ 59.94113159],\n",
       "       [ 60.56602478],\n",
       "       ..., \n",
       "       [ 74.22654724],\n",
       "       [ 72.8890686 ],\n",
       "       [ 71.2219696 ]], dtype=float32)"
      ]
     },
     "execution_count": 157,
     "metadata": {},
     "output_type": "execute_result"
    }
   ],
   "source": [
    "scaler.inverse_transform(predicted)"
   ]
  },
  {
   "cell_type": "code",
   "execution_count": 159,
   "metadata": {},
   "outputs": [
    {
     "data": {
      "text/plain": [
       "array([-1.58855397, -1.51484735, -1.57217473, ..., -1.52303698,\n",
       "       -1.5639851 , -1.71139834])"
      ]
     },
     "execution_count": 159,
     "metadata": {},
     "output_type": "execute_result"
    }
   ],
   "source": [
    "y_test"
   ]
  },
  {
   "cell_type": "code",
   "execution_count": 161,
   "metadata": {
    "collapsed": true
   },
   "outputs": [],
   "source": [
    "predict = model.predict(x_test)\n",
    "predict = scaler.inverse_transform(predict).flatten()"
   ]
  },
  {
   "cell_type": "code",
   "execution_count": 173,
   "metadata": {},
   "outputs": [
    {
     "name": "stdout",
     "output_type": "stream",
     "text": [
      "MSE: 1657809.753\n",
      "RMSE: 1287.560\n",
      "MAE: 27.838\n",
      "MAPE: 17.354%\n"
     ]
    }
   ],
   "source": [
    "print_error(scaler.inverse_transform(y_test).flatten(), predict)"
   ]
  },
  {
   "cell_type": "code",
   "execution_count": 166,
   "metadata": {},
   "outputs": [
    {
     "data": {
      "text/plain": [
       "19008"
      ]
     },
     "execution_count": 166,
     "metadata": {},
     "output_type": "execute_result"
    }
   ],
   "source": [
    "len(test['flow_scaler'].values)"
   ]
  },
  {
   "cell_type": "code",
   "execution_count": 172,
   "metadata": {},
   "outputs": [
    {
     "data": {
      "text/plain": [
       "array([  44.,   53.,   46.,   43.,   47.,   55.,   60.,   48.,   53.,\n",
       "         52.,   57.,   53.,   72.,   75.,   79.,   73.,   74.,   84.,\n",
       "         83.,  112.])"
      ]
     },
     "execution_count": 172,
     "metadata": {},
     "output_type": "execute_result"
    }
   ],
   "source": [
    "scaler.inverse_transform(y_test).flatten()[:20]"
   ]
  },
  {
   "cell_type": "code",
   "execution_count": 174,
   "metadata": {},
   "outputs": [
    {
     "data": {
      "text/plain": [
       "array([ 59.93305969,  59.94113159,  60.56602478, ...,  74.22654724,\n",
       "        72.8890686 ,  71.2219696 ], dtype=float32)"
      ]
     },
     "execution_count": 174,
     "metadata": {},
     "output_type": "execute_result"
    }
   ],
   "source": [
    "predict"
   ]
  },
  {
   "cell_type": "code",
   "execution_count": null,
   "metadata": {
    "collapsed": true
   },
   "outputs": [],
   "source": []
  }
 ],
 "metadata": {
  "kernelspec": {
   "display_name": "Python 2",
   "language": "python",
   "name": "python2"
  },
  "language_info": {
   "codemirror_mode": {
    "name": "ipython",
    "version": 2
   },
   "file_extension": ".py",
   "mimetype": "text/x-python",
   "name": "python",
   "nbconvert_exporter": "python",
   "pygments_lexer": "ipython2",
   "version": "2.7.13"
  }
 },
 "nbformat": 4,
 "nbformat_minor": 2
}
